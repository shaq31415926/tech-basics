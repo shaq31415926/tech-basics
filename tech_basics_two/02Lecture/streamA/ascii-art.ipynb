{
 "cells": [
  {
   "cell_type": "code",
   "execution_count": 1,
   "id": "b9f17410-f4c2-48ba-8841-a349c7499bf1",
   "metadata": {},
   "outputs": [],
   "source": [
    "import pyfiglet"
   ]
  },
  {
   "cell_type": "code",
   "execution_count": 5,
   "id": "61df5334-feb3-48ee-bd59-8d4c74353382",
   "metadata": {},
   "outputs": [
    {
     "name": "stdout",
     "output_type": "stream",
     "text": [
      " _   _ _____ _     _     ___     ____ _        _    ____ ____  \n",
      "| | | | ____| |   | |   / _ \\   / ___| |      / \\  / ___/ ___| \n",
      "| |_| |  _| | |   | |  | | | | | |   | |     / _ \\ \\___ \\___ \\ \n",
      "|  _  | |___| |___| |__| |_| | | |___| |___ / ___ \\ ___) |__) |\n",
      "|_| |_|_____|_____|_____\\___/   \\____|_____/_/   \\_\\____/____/ \n",
      "                                                               \n",
      "\n"
     ]
    }
   ],
   "source": [
    "print(pyfiglet.figlet_format(\"HELLO CLASS\"))"
   ]
  },
  {
   "cell_type": "code",
   "execution_count": 3,
   "id": "c2f4c402-b158-429d-9537-3d8b2034b474",
   "metadata": {},
   "outputs": [
    {
     "name": "stdout",
     "output_type": "stream",
     "text": [
      " _   _  ____  __    __    _____     ___  __      __    ___  ___ \n",
      "( )_( )( ___)(  )  (  )  (  _  )   / __)(  )    /__\\  / __)/ __)\n",
      " ) _ (  )__)  )(__  )(__  )(_)(   ( (__  )(__  /(__)\\ \\__ \\\\__ \\\n",
      "(_) (_)(____)(____)(____)(_____)   \\___)(____)(__)(__)(___/(___/\n",
      "\n"
     ]
    }
   ],
   "source": [
    "result = pyfiglet.figlet_format(\"HELLO CLASS\", font=\"bulbhead\") \n",
    "print(result) "
   ]
  },
  {
   "cell_type": "code",
   "execution_count": 16,
   "id": "03346c7e-e271-40ed-86eb-c4a9a7f49f8d",
   "metadata": {},
   "outputs": [
    {
     "data": {
      "text/html": [
       "<pre style=\"white-space:pre;overflow-x:auto;line-height:normal;font-family:Menlo,'DejaVu Sans Mono',consolas,'Courier New',monospace\"><span style=\"color: #800000; text-decoration-color: #800000\"> _   _  ____  __    __    _____     ___  __      __    ___  ___ </span>\n",
       "<span style=\"color: #800000; text-decoration-color: #800000; font-weight: bold\">(</span><span style=\"color: #800000; text-decoration-color: #800000\"> </span><span style=\"color: #800000; text-decoration-color: #800000; font-weight: bold\">)_(</span><span style=\"color: #800000; text-decoration-color: #800000\"> </span><span style=\"color: #800000; text-decoration-color: #800000; font-weight: bold\">)(</span><span style=\"color: #800000; text-decoration-color: #800000\"> ___</span><span style=\"color: #800000; text-decoration-color: #800000; font-weight: bold\">)(</span><span style=\"color: #800000; text-decoration-color: #800000\">  </span><span style=\"color: #800000; text-decoration-color: #800000; font-weight: bold\">)</span><span style=\"color: #800000; text-decoration-color: #800000\">  </span><span style=\"color: #800000; text-decoration-color: #800000; font-weight: bold\">(</span><span style=\"color: #800000; text-decoration-color: #800000\">  </span><span style=\"color: #800000; text-decoration-color: #800000; font-weight: bold\">)</span><span style=\"color: #800000; text-decoration-color: #800000\">  </span><span style=\"color: #800000; text-decoration-color: #800000; font-weight: bold\">(</span><span style=\"color: #800000; text-decoration-color: #800000\">  _  </span><span style=\"color: #800000; text-decoration-color: #800000; font-weight: bold\">)</span><span style=\"color: #800000; text-decoration-color: #800000\">   / __</span><span style=\"color: #800000; text-decoration-color: #800000; font-weight: bold\">)(</span><span style=\"color: #800000; text-decoration-color: #800000\">  </span><span style=\"color: #800000; text-decoration-color: #800000; font-weight: bold\">)</span><span style=\"color: #800000; text-decoration-color: #800000\">    /__\\  / __</span><span style=\"color: #800000; text-decoration-color: #800000; font-weight: bold\">)</span><span style=\"color: #800000; text-decoration-color: #800000\">/ __</span><span style=\"color: #800000; text-decoration-color: #800000; font-weight: bold\">)</span>\n",
       "<span style=\"color: #800000; text-decoration-color: #800000\"> </span><span style=\"color: #800000; text-decoration-color: #800000; font-weight: bold\">)</span><span style=\"color: #800000; text-decoration-color: #800000\"> _ </span><span style=\"color: #800000; text-decoration-color: #800000; font-weight: bold\">(</span><span style=\"color: #800000; text-decoration-color: #800000\">  </span><span style=\"color: #800000; text-decoration-color: #800000; font-weight: bold\">)</span><span style=\"color: #800000; text-decoration-color: #800000\">__</span><span style=\"color: #800000; text-decoration-color: #800000; font-weight: bold\">)</span><span style=\"color: #800000; text-decoration-color: #800000\">  </span><span style=\"color: #800000; text-decoration-color: #800000; font-weight: bold\">)(</span><span style=\"color: #800000; text-decoration-color: #800000\">__  </span><span style=\"color: #800000; text-decoration-color: #800000; font-weight: bold\">)(</span><span style=\"color: #800000; text-decoration-color: #800000\">__  </span><span style=\"color: #800000; text-decoration-color: #800000; font-weight: bold\">)(</span><span style=\"color: #800000; text-decoration-color: #800000\">_</span><span style=\"color: #800000; text-decoration-color: #800000; font-weight: bold\">)(</span><span style=\"color: #800000; text-decoration-color: #800000\">   </span><span style=\"color: #800000; text-decoration-color: #800000; font-weight: bold\">(</span><span style=\"color: #800000; text-decoration-color: #800000\"> </span><span style=\"color: #800000; text-decoration-color: #800000; font-weight: bold\">(</span><span style=\"color: #800000; text-decoration-color: #800000\">__  </span><span style=\"color: #800000; text-decoration-color: #800000; font-weight: bold\">)(</span><span style=\"color: #800000; text-decoration-color: #800000\">__  /</span><span style=\"color: #800000; text-decoration-color: #800000; font-weight: bold\">(</span><span style=\"color: #800000; text-decoration-color: #800000\">__</span><span style=\"color: #800000; text-decoration-color: #800000; font-weight: bold\">)</span><span style=\"color: #800000; text-decoration-color: #800000\">\\ \\__ \\\\__ \\</span>\n",
       "<span style=\"color: #800000; text-decoration-color: #800000; font-weight: bold\">(</span><span style=\"color: #800000; text-decoration-color: #800000\">_</span><span style=\"color: #800000; text-decoration-color: #800000; font-weight: bold\">)</span><span style=\"color: #800000; text-decoration-color: #800000\"> </span><span style=\"color: #800000; text-decoration-color: #800000; font-weight: bold\">(</span><span style=\"color: #800000; text-decoration-color: #800000\">_</span><span style=\"color: #800000; text-decoration-color: #800000; font-weight: bold\">)(</span><span style=\"color: #800000; text-decoration-color: #800000\">____</span><span style=\"color: #800000; text-decoration-color: #800000; font-weight: bold\">)(</span><span style=\"color: #800000; text-decoration-color: #800000\">____</span><span style=\"color: #800000; text-decoration-color: #800000; font-weight: bold\">)(</span><span style=\"color: #800000; text-decoration-color: #800000\">____</span><span style=\"color: #800000; text-decoration-color: #800000; font-weight: bold\">)(</span><span style=\"color: #800000; text-decoration-color: #800000\">_____</span><span style=\"color: #800000; text-decoration-color: #800000; font-weight: bold\">)</span><span style=\"color: #800000; text-decoration-color: #800000\">   \\___</span><span style=\"color: #800000; text-decoration-color: #800000; font-weight: bold\">)(</span><span style=\"color: #800000; text-decoration-color: #800000\">____</span><span style=\"color: #800000; text-decoration-color: #800000; font-weight: bold\">)(</span><span style=\"color: #800000; text-decoration-color: #800000\">__</span><span style=\"color: #800000; text-decoration-color: #800000; font-weight: bold\">)(</span><span style=\"color: #800000; text-decoration-color: #800000\">__</span><span style=\"color: #800000; text-decoration-color: #800000; font-weight: bold\">)(</span><span style=\"color: #800000; text-decoration-color: #800000\">___/</span><span style=\"color: #800000; text-decoration-color: #800000; font-weight: bold\">(</span><span style=\"color: #800000; text-decoration-color: #800000\">___/</span>\n",
       "\n",
       "</pre>\n"
      ],
      "text/plain": [
       "\u001b[31m _   _  ____  __    __    _____     ___  __      __    ___  ___ \u001b[0m\n",
       "\u001b[1;31m(\u001b[0m\u001b[31m \u001b[0m\u001b[1;31m)\u001b[0m\u001b[1;31m_\u001b[0m\u001b[1;31m(\u001b[0m\u001b[31m \u001b[0m\u001b[1;31m)\u001b[0m\u001b[1;31m(\u001b[0m\u001b[31m ___\u001b[0m\u001b[1;31m)\u001b[0m\u001b[1;31m(\u001b[0m\u001b[31m  \u001b[0m\u001b[1;31m)\u001b[0m\u001b[31m  \u001b[0m\u001b[1;31m(\u001b[0m\u001b[31m  \u001b[0m\u001b[1;31m)\u001b[0m\u001b[31m  \u001b[0m\u001b[1;31m(\u001b[0m\u001b[31m  _  \u001b[0m\u001b[1;31m)\u001b[0m\u001b[31m   \u001b[0m\u001b[31m/\u001b[0m\u001b[31m __\u001b[0m\u001b[1;31m)\u001b[0m\u001b[1;31m(\u001b[0m\u001b[31m  \u001b[0m\u001b[1;31m)\u001b[0m\u001b[31m    \u001b[0m\u001b[31m/\u001b[0m\u001b[31m__\u001b[0m\u001b[31m\\  \u001b[0m\u001b[31m/\u001b[0m\u001b[31m __\u001b[0m\u001b[1;31m)\u001b[0m\u001b[31m/\u001b[0m\u001b[31m __\u001b[0m\u001b[1;31m)\u001b[0m\n",
       "\u001b[31m \u001b[0m\u001b[1;31m)\u001b[0m\u001b[31m _ \u001b[0m\u001b[1;31m(\u001b[0m\u001b[31m  \u001b[0m\u001b[1;31m)\u001b[0m\u001b[31m__\u001b[0m\u001b[1;31m)\u001b[0m\u001b[31m  \u001b[0m\u001b[1;31m)\u001b[0m\u001b[1;31m(\u001b[0m\u001b[31m__  \u001b[0m\u001b[1;31m)\u001b[0m\u001b[1;31m(\u001b[0m\u001b[31m__  \u001b[0m\u001b[1;31m)\u001b[0m\u001b[1;31m(\u001b[0m\u001b[31m_\u001b[0m\u001b[1;31m)\u001b[0m\u001b[1;31m(\u001b[0m\u001b[31m   \u001b[0m\u001b[1;31m(\u001b[0m\u001b[31m \u001b[0m\u001b[1;31m(\u001b[0m\u001b[31m__  \u001b[0m\u001b[1;31m)\u001b[0m\u001b[1;31m(\u001b[0m\u001b[31m__  \u001b[0m\u001b[31m/\u001b[0m\u001b[1;31m(\u001b[0m\u001b[31m__\u001b[0m\u001b[1;31m)\u001b[0m\u001b[31m\\ \\__ \\\\__ \\\u001b[0m\n",
       "\u001b[1;31m(\u001b[0m\u001b[31m_\u001b[0m\u001b[1;31m)\u001b[0m\u001b[31m \u001b[0m\u001b[1;31m(\u001b[0m\u001b[31m_\u001b[0m\u001b[1;31m)\u001b[0m\u001b[1;31m(\u001b[0m\u001b[31m____\u001b[0m\u001b[1;31m)\u001b[0m\u001b[1;31m(\u001b[0m\u001b[31m____\u001b[0m\u001b[1;31m)\u001b[0m\u001b[1;31m(\u001b[0m\u001b[31m____\u001b[0m\u001b[1;31m)\u001b[0m\u001b[1;31m(\u001b[0m\u001b[31m_____\u001b[0m\u001b[1;31m)\u001b[0m\u001b[31m   \\___\u001b[0m\u001b[1;31m)\u001b[0m\u001b[1;31m(\u001b[0m\u001b[31m____\u001b[0m\u001b[1;31m)\u001b[0m\u001b[1;31m(\u001b[0m\u001b[31m__\u001b[0m\u001b[1;31m)\u001b[0m\u001b[1;31m(\u001b[0m\u001b[31m__\u001b[0m\u001b[1;31m)\u001b[0m\u001b[1;31m(\u001b[0m\u001b[31m___/\u001b[0m\u001b[1;31m(\u001b[0m\u001b[31m___/\u001b[0m\n",
       "\n"
      ]
     },
     "metadata": {},
     "output_type": "display_data"
    }
   ],
   "source": [
    "# pip install rich pyfiglet\n",
    "import pyfiglet\n",
    "from rich import print\n",
    "\n",
    "title = pyfiglet.figlet_format('Hello Class', font='bulbhead')\n",
    "print(f'[red]{title}[/red]')"
   ]
  },
  {
   "cell_type": "code",
   "execution_count": null,
   "id": "ed4f0ec6-3054-4ba9-9aae-ce99af8ad4bd",
   "metadata": {},
   "outputs": [],
   "source": []
  }
 ],
 "metadata": {
  "kernelspec": {
   "display_name": "Python 3 (ipykernel)",
   "language": "python",
   "name": "python3"
  },
  "language_info": {
   "codemirror_mode": {
    "name": "ipython",
    "version": 3
   },
   "file_extension": ".py",
   "mimetype": "text/x-python",
   "name": "python",
   "nbconvert_exporter": "python",
   "pygments_lexer": "ipython3",
   "version": "3.12.3"
  }
 },
 "nbformat": 4,
 "nbformat_minor": 5
}
