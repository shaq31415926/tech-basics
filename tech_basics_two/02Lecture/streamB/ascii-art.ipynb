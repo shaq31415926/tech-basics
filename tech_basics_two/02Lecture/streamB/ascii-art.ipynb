{
 "cells": [
  {
   "cell_type": "code",
   "execution_count": 4,
   "id": "30793c25-4e26-4c5f-a0e9-cfbf095da3a7",
   "metadata": {},
   "outputs": [
    {
     "name": "stdout",
     "output_type": "stream",
     "text": [
      "Requirement already satisfied: pyfiglet in /Users/buu-dsd/.pyenv/versions/3.8-dev/lib/python3.8/site-packages (0.8.post1)\n",
      "\n",
      "\u001b[1m[\u001b[0m\u001b[34;49mnotice\u001b[0m\u001b[1;39;49m]\u001b[0m\u001b[39;49m A new release of pip is available: \u001b[0m\u001b[31;49m23.0.1\u001b[0m\u001b[39;49m -> \u001b[0m\u001b[32;49m24.2\u001b[0m\n",
      "\u001b[1m[\u001b[0m\u001b[34;49mnotice\u001b[0m\u001b[1;39;49m]\u001b[0m\u001b[39;49m To update, run: \u001b[0m\u001b[32;49mpip install --upgrade pip\u001b[0m\n"
     ]
    }
   ],
   "source": [
    "! pip3 install pyfiglet"
   ]
  },
  {
   "cell_type": "code",
   "execution_count": 5,
   "id": "46ce5619-c4f0-473b-b117-8f4b8106cbc6",
   "metadata": {},
   "outputs": [],
   "source": [
    "import pyfiglet"
   ]
  },
  {
   "cell_type": "code",
   "execution_count": 7,
   "id": "03fbd511-10f0-4f1d-8968-f418cfa4ae74",
   "metadata": {},
   "outputs": [
    {
     "name": "stdout",
     "output_type": "stream",
     "text": [
      " _   _ _____ _     _     ___  _ \n",
      "| | | | ____| |   | |   / _ \\| |\n",
      "| |_| |  _| | |   | |  | | | | |\n",
      "|  _  | |___| |___| |__| |_| |_|\n",
      "|_| |_|_____|_____|_____\\___/(_)\n",
      "                                \n",
      "\n"
     ]
    }
   ],
   "source": [
    "hello = pyfiglet.figlet_format(\"HELLO!\")\n",
    "print(hello)"
   ]
  },
  {
   "cell_type": "code",
   "execution_count": 8,
   "id": "5f996547-9420-4cd2-bde6-5b7c0eebadc9",
   "metadata": {},
   "outputs": [
    {
     "name": "stdout",
     "output_type": "stream",
     "text": [
      " **      ** ******** **       **         *******   **\n",
      "/**     /**/**///// /**      /**        **/////** /**\n",
      "/**     /**/**      /**      /**       **     //**/**\n",
      "/**********/******* /**      /**      /**      /**/**\n",
      "/**//////**/**////  /**      /**      /**      /**/**\n",
      "/**     /**/**      /**      /**      //**     ** // \n",
      "/**     /**/********/********/******** //*******   **\n",
      "//      // //////// //////// ////////   ///////   // \n",
      "\n"
     ]
    }
   ],
   "source": [
    "hello = pyfiglet.figlet_format(\"HELLO!\", font=\"3-d\")\n",
    "print(hello)"
   ]
  },
  {
   "cell_type": "code",
   "execution_count": 10,
   "id": "3f5e6f39-7c4d-44b4-887a-079d5b7e7ffb",
   "metadata": {},
   "outputs": [
    {
     "name": "stdout",
     "output_type": "stream",
     "text": [
      " _   _  ____  __    __    _____    _    _  _____  ____  __    ____  /\\\n",
      "( )_( )( ___)(  )  (  )  (  _  )  ( \\/\\/ )(  _  )(  _ \\(  )  (  _ \\ )(\n",
      " ) _ (  )__)  )(__  )(__  )(_)(    )    (  )(_)(  )   / )(__  )(_) )\\/\n",
      "(_) (_)(____)(____)(____)(_____)  (__/\\__)(_____)(_)\\_)(____)(____/ ()\n",
      "\n"
     ]
    }
   ],
   "source": [
    "hello = pyfiglet.figlet_format(\"HELLO WORLD!\", font=\"bulbhead\")\n",
    "print(hello)"
   ]
  },
  {
   "cell_type": "code",
   "execution_count": null,
   "id": "85edc5bd-2668-410b-8b27-220287c912f1",
   "metadata": {},
   "outputs": [],
   "source": []
  }
 ],
 "metadata": {
  "kernelspec": {
   "display_name": "Python 3 (ipykernel)",
   "language": "python",
   "name": "python3"
  },
  "language_info": {
   "codemirror_mode": {
    "name": "ipython",
    "version": 3
   },
   "file_extension": ".py",
   "mimetype": "text/x-python",
   "name": "python",
   "nbconvert_exporter": "python",
   "pygments_lexer": "ipython3",
   "version": "3.12.3"
  }
 },
 "nbformat": 4,
 "nbformat_minor": 5
}
