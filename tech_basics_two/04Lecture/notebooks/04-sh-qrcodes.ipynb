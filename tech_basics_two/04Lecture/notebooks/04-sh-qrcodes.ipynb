{
 "cells": [
  {
   "cell_type": "code",
   "execution_count": 1,
   "id": "1b3f553c-1ebc-440f-8727-bf93678616d5",
   "metadata": {},
   "outputs": [
    {
     "name": "stdout",
     "output_type": "stream",
     "text": [
      "Requirement already satisfied: segno in /Users/buu-dsd/.pyenv/versions/3.8-dev/lib/python3.8/site-packages (1.6.1)\n",
      "Requirement already satisfied: qrcode-artistic in /Users/buu-dsd/.pyenv/versions/3.8-dev/lib/python3.8/site-packages (3.0.2)\n",
      "Requirement already satisfied: pillow in /Users/buu-dsd/.pyenv/versions/3.8-dev/lib/python3.8/site-packages (10.3.0)\n",
      "Requirement already satisfied: importlib-metadata>=3.6.0 in /Users/buu-dsd/.pyenv/versions/3.8-dev/lib/python3.8/site-packages (from segno) (8.0.0)\n",
      "Requirement already satisfied: zipp>=0.5 in /Users/buu-dsd/.pyenv/versions/3.8-dev/lib/python3.8/site-packages (from importlib-metadata>=3.6.0->segno) (3.19.2)\n",
      "\n",
      "\u001b[1m[\u001b[0m\u001b[34;49mnotice\u001b[0m\u001b[1;39;49m]\u001b[0m\u001b[39;49m A new release of pip is available: \u001b[0m\u001b[31;49m23.0.1\u001b[0m\u001b[39;49m -> \u001b[0m\u001b[32;49m24.3.1\u001b[0m\n",
      "\u001b[1m[\u001b[0m\u001b[34;49mnotice\u001b[0m\u001b[1;39;49m]\u001b[0m\u001b[39;49m To update, run: \u001b[0m\u001b[32;49mpip install --upgrade pip\u001b[0m\n"
     ]
    }
   ],
   "source": [
    "# install the libraries we will need\n",
    "! pip3 install segno qrcode-artistic pillow "
   ]
  },
  {
   "cell_type": "code",
   "execution_count": 2,
   "id": "e2f37242-258e-47f9-9fc0-bcea3adbf38a",
   "metadata": {},
   "outputs": [],
   "source": [
    "# import the library segno: \n",
    "import segno"
   ]
  },
  {
   "cell_type": "code",
   "execution_count": 3,
   "id": "2f1159e0-bc5b-4ecc-9628-a7a4be1720e6",
   "metadata": {},
   "outputs": [],
   "source": [
    "qrcode = segno.make_qr(\"https://www.youtube.com/watch?v=WhNLNvugNy0\") # creates the qr code with data encoded\n",
    "qrcode.save(\"../images/my_basic_qrcode.png\") # saves the qr code to a location of your choice\n"
   ]
  },
  {
   "cell_type": "code",
   "execution_count": 4,
   "id": "8827d3ba-d8b1-4dca-b00b-689926395c18",
   "metadata": {},
   "outputs": [
    {
     "data": {
      "image/jpeg": "[encoded data removed]",
      "image/png": "[encoded data removed]",
      "text/plain": [
       "<PIL.PngImagePlugin.PngImageFile image mode=1 size=37x37>"
      ]
     },
     "execution_count": 4,
     "metadata": {},
     "output_type": "execute_result"
    }
   ],
   "source": [
    "qrcode.to_pil() # you can also preview the qr code"
   ]
  },
  {
   "cell_type": "code",
   "execution_count": 5,
   "id": "691b6af3-c491-4057-a07e-81e285bb7215",
   "metadata": {},
   "outputs": [
    {
     "data": {
      "image/jpeg": "[encoded data removed]",
      "image/png": "[encoded data removed]",
      "text/plain": [
       "<PIL.PngImagePlugin.PngImageFile image mode=1 size=185x185>"
      ]
     },
     "execution_count": 5,
     "metadata": {},
     "output_type": "execute_result"
    }
   ],
   "source": [
    "qrcode.to_pil(scale=5) # you can resize the qr code"
   ]
  },
  {
   "cell_type": "code",
   "execution_count": 6,
   "id": "06c46538-a4a9-4b18-bcec-efcfeb16d15d",
   "metadata": {},
   "outputs": [],
   "source": [
    "qrcode.to_pil(scale=5).save(\"../images/my_scaled_qrcode.png\") # you can save the scaled qr code"
   ]
  },
  {
   "cell_type": "code",
   "execution_count": 7,
   "id": "20434cea-583a-4542-adfa-3628e9a9f112",
   "metadata": {},
   "outputs": [
    {
     "data": {
      "image/png": "[encoded data removed]",
      "text/plain": [
       "<PIL.PngImagePlugin.PngImageFile image mode=P size=185x185>"
      ]
     },
     "execution_count": 7,
     "metadata": {},
     "output_type": "execute_result"
    }
   ],
   "source": [
    "qrcode.to_pil(scale=5, dark=\"darkred\", light=\"#dbc1ac\") # you can change the colours of the light and dark squares"
   ]
  },
  {
   "cell_type": "code",
   "execution_count": 8,
   "id": "711f6728-0c3d-4278-a260-fc471860170e",
   "metadata": {},
   "outputs": [],
   "source": [
    "qrcode.to_pil(scale=5, dark=\"darkred\", light=\"#dbc1ac\").save(\"../images/my_colourful_qrcode.png\") # you can save this qr code"
   ]
  },
  {
   "cell_type": "code",
   "execution_count": 9,
   "id": "aa6d902b-2397-4bcf-82dd-9dd29674d077",
   "metadata": {},
   "outputs": [
    {
     "data": {
      "image/png": "[encoded data removed]",
      "text/plain": [
       "<PIL.PngImagePlugin.PngImageFile image mode=P size=185x185>"
      ]
     },
     "execution_count": 9,
     "metadata": {},
     "output_type": "execute_result"
    }
   ],
   "source": [
    "qrcode.to_pil(scale=5, dark=\"darkred\", light=\"#dbc1ac\", data_dark=\"blue\", data_light=\"lightblue\") #if you want to get super granular"
   ]
  },
  {
   "cell_type": "code",
   "execution_count": 10,
   "id": "3df8f378-69de-4e0f-b175-0f729d9dd2bf",
   "metadata": {},
   "outputs": [],
   "source": [
    "qrcode.to_pil(scale=5, dark=\"darkred\", light=\"#dbc1ac\", data_dark=\"blue\", data_light=\"lightblue\").save(\"../images/my_colourful_qrcode2.png\")"
   ]
  },
  {
   "cell_type": "code",
   "execution_count": 15,
   "id": "b6a353a6-d9d4-47d8-8463-0491d01925f2",
   "metadata": {},
   "outputs": [
    {
     "data": {
      "image/png": "[encoded data removed]",
      "text/plain": [
       "<PIL.PngImagePlugin.PngImageFile image mode=P size=145x145>"
      ]
     },
     "execution_count": 15,
     "metadata": {},
     "output_type": "execute_result"
    }
   ],
   "source": [
    "qrcode.to_pil(border=0,\n",
    "             scale=5,\n",
    "             dark=\"darkred\", \n",
    "            light=\"#dbc1ac\") # if you want to remove the border, include border=0"
   ]
  },
  {
   "cell_type": "code",
   "execution_count": 16,
   "id": "2c6349ac-0c98-4e1c-934c-9488240664e1",
   "metadata": {},
   "outputs": [],
   "source": [
    "qrcode.to_pil(border=0,\n",
    "             scale=5,\n",
    "             dark=\"darkred\", \n",
    "            light=\"#dbc1ac\").save(\"../images/my_bordless_qrcode.png\") # remove the qr code"
   ]
  },
  {
   "cell_type": "code",
   "execution_count": 17,
   "id": "c07e1849-f84c-4c3f-8eef-7ed212e3d296",
   "metadata": {},
   "outputs": [
    {
     "data": {
      "image/jpeg": "[encoded data removed]",
      "image/png": "[encoded data removed]",
      "text/plain": [
       "<PIL.Image.Image image mode=1 size=37x37>"
      ]
     },
     "execution_count": 17,
     "metadata": {},
     "output_type": "execute_result"
    }
   ],
   "source": [
    "qrcode.to_pil().rotate(45) # rotate the qr code"
   ]
  },
  {
   "cell_type": "code",
   "execution_count": 23,
   "id": "3362f207-a82c-448f-a279-25a04815fddf",
   "metadata": {},
   "outputs": [
    {
     "data": {
      "image/jpeg": "[encoded data removed]",
      "image/png": "[encoded data removed]",
      "text/plain": [
       "<PIL.Image.Image image mode=1 size=185x185>"
      ]
     },
     "execution_count": 23,
     "metadata": {},
     "output_type": "execute_result"
    }
   ],
   "source": [
    "qrcode.to_pil(scale=5).rotate(45) # scale the rotated qr code"
   ]
  },
  {
   "cell_type": "code",
   "execution_count": 24,
   "id": "d877fed7-1497-474c-8423-c6a85612cf17",
   "metadata": {},
   "outputs": [
    {
     "data": {
      "image/jpeg": "[encoded data removed]",
      "image/png": "[encoded data removed]",
      "text/plain": [
       "<PIL.Image.Image image mode=1 size=185x185>"
      ]
     },
     "execution_count": 24,
     "metadata": {},
     "output_type": "execute_result"
    }
   ],
   "source": [
    "qrcode.to_pil(scale=5,\n",
    "             dark=\"white\",\n",
    "             light=\"black\").rotate(45) # change the colours of the dark and light squares"
   ]
  },
  {
   "cell_type": "code",
   "execution_count": 33,
   "id": "af4df2c1-2492-466d-aa90-f54c5be14a8a",
   "metadata": {},
   "outputs": [
    {
     "data": {
      "image/png": "[encoded data removed]",
      "text/plain": [
       "<PIL.Image.Image image mode=P size=263x263>"
      ]
     },
     "execution_count": 33,
     "metadata": {},
     "output_type": "execute_result"
    }
   ],
   "source": [
    "qrcode.to_pil(scale=5,\n",
    "             dark=\"yellow\",\n",
    "             light=\"blue\").rotate(45, expand=True) # add the expand = True argument so the qr code is not truncated"
   ]
  },
  {
   "cell_type": "code",
   "execution_count": 34,
   "id": "36d4a5f1-e29c-47eb-99f3-191ad51178ee",
   "metadata": {},
   "outputs": [],
   "source": [
    "qrcode.to_pil(scale=5,\n",
    "             dark=\"yellow\",\n",
    "             light=\"blue\").rotate(45, expand=True).save(\"../images/my_rotated_qrcode.png\") # you can save the rotated qr code"
   ]
  },
  {
   "cell_type": "code",
   "execution_count": 42,
   "id": "bd075e9c-1a72-48d2-955c-619c7b9d81e1",
   "metadata": {},
   "outputs": [],
   "source": [
    "# create a qr code code with an animated background\n",
    "new_qrcode = segno.make_qr(\"https://www.youtube.com/watch?v=nfWlot6h_JM\")"
   ]
  },
  {
   "cell_type": "code",
   "execution_count": 43,
   "id": "31034a5c-6958-409b-9558-75d28109f555",
   "metadata": {},
   "outputs": [
    {
     "data": {
      "image/jpeg": "[encoded data removed]",
      "image/png": "[encoded data removed]",
      "text/plain": [
       "<PIL.PngImagePlugin.PngImageFile image mode=1 size=37x37>"
      ]
     },
     "execution_count": 43,
     "metadata": {},
     "output_type": "execute_result"
    }
   ],
   "source": [
    "new_qrcode.to_pil() # just to be sure it was created"
   ]
  },
  {
   "cell_type": "code",
   "execution_count": 44,
   "id": "e5c3d631-8665-4341-9f5d-3da6be88d076",
   "metadata": {},
   "outputs": [],
   "source": [
    "from urllib.request import urlopen\n",
    "\n",
    "# specify a giphy link of your choice\n",
    "taylor_url = urlopen(\"https://media.giphy.com/media/v1.Y2lkPTc5MGI3NjExdnloZzdkZTRmeHo0ZDVjdHQxczVyYW84bjk4OWd3N3k4cjl4dG4ydSZlcD12MV9naWZzX3NlYXJjaCZjdD1n/u1rEObZ4LHLUwl0mUo/giphy.gif\")"
   ]
  },
  {
   "cell_type": "code",
   "execution_count": 45,
   "id": "ffbfd598-cef2-4baf-966a-6291cdb338b5",
   "metadata": {},
   "outputs": [],
   "source": [
    "# save your qr coee and place the giphy as the background\n",
    "\n",
    "new_qrcode.to_artistic(background=taylor_url,\n",
    "                       scale=20,\n",
    "                       target=\"../images/taylor.gif\")"
   ]
  },
  {
   "cell_type": "code",
   "execution_count": null,
   "id": "a0f5140b-460b-409b-9521-f0377d8c3955",
   "metadata": {},
   "outputs": [],
   "source": []
  }
 ],
 "metadata": {
  "kernelspec": {
   "display_name": "Python 3 (ipykernel)",
   "language": "python",
   "name": "python3"
  },
  "language_info": {
   "codemirror_mode": {
    "name": "ipython",
    "version": 3
   },
   "file_extension": ".py",
   "mimetype": "text/x-python",
   "name": "python",
   "nbconvert_exporter": "python",
   "pygments_lexer": "ipython3",
   "version": "3.12.3"
  }
 },
 "nbformat": 4,
 "nbformat_minor": 5
}
