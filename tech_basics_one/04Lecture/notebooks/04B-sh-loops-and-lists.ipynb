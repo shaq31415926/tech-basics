{
 "cells": [
  {
   "cell_type": "code",
   "execution_count": 8,
   "id": "58e2bfbf-cc96-487a-8e6a-0b58f6c5734a",
   "metadata": {},
   "outputs": [
    {
     "name": "stdout",
     "output_type": "stream",
     "text": [
      "The loop number is 0\n",
      "The loop number is 1\n",
      "The loop number is 2\n",
      "The loop number is 3\n",
      "The loop number is 4\n",
      "The loop number is 5\n"
     ]
    }
   ],
   "source": [
    "i = 0\n",
    "\n",
    "while i < 6:\n",
    "    print(f\"The loop number is {i}\")\n",
    "    # i = i + 1\n",
    "    i += 1"
   ]
  },
  {
   "cell_type": "code",
   "execution_count": 9,
   "id": "b5ebc08a-f0ca-4d18-8257-5dc3307cb4ec",
   "metadata": {},
   "outputs": [
    {
     "name": "stdout",
     "output_type": "stream",
     "text": [
      "The loop number is 0\n",
      "The loop number is 1\n",
      "The loop number is 2\n",
      "The loop number is 3\n",
      "The loop number is 4\n",
      "The loop number is 5\n",
      "Goodbye, i is equal to 6\n"
     ]
    }
   ],
   "source": [
    "i = 0\n",
    "\n",
    "while i < 6:\n",
    "    print(f\"The loop number is {i}\")\n",
    "    # i = i + 1\n",
    "    i += 1\n",
    "else:\n",
    "    print(\"Goodbye, i is equal to 6\")"
   ]
  },
  {
   "cell_type": "code",
   "execution_count": 15,
   "id": "17321f5d-874c-4edf-b57c-6cb7bc6f42ad",
   "metadata": {},
   "outputs": [
    {
     "name": "stdout",
     "output_type": "stream",
     "text": [
      "The value of i is 0\n",
      "The value of i is 1\n",
      "The value of i is 2\n"
     ]
    }
   ],
   "source": [
    "i = 0\n",
    "\n",
    "while i < 6:\n",
    "    if i == 3:\n",
    "        break # to exit the loop when we reach a certain \n",
    "    print(f\"The value of i is {i}\")\n",
    "    # i = i + 1\n",
    "    i += 1"
   ]
  },
  {
   "cell_type": "code",
   "execution_count": 19,
   "id": "edead1af-7b91-46f8-b7de-58f5fcb99955",
   "metadata": {},
   "outputs": [
    {
     "name": "stdout",
     "output_type": "stream",
     "text": [
      "The value of i is 1\n",
      "The value of i is 2\n",
      "The value of i is 3\n",
      "Skipping this\n",
      "The value of i is 5\n",
      "The value of i is 6\n"
     ]
    }
   ],
   "source": [
    "i = 0\n",
    "\n",
    "while i < 6:\n",
    "    i += 1\n",
    "    if i == 4:\n",
    "        print(\"Skipping this\")\n",
    "        continue # skips over a condition\n",
    "    print(f\"The value of i is {i}\")\n"
   ]
  },
  {
   "cell_type": "code",
   "execution_count": 20,
   "id": "cc679234-8339-48d1-ad7b-275d5d3c6710",
   "metadata": {},
   "outputs": [],
   "source": [
    "# create an empty list\n",
    "\n",
    "list_1 = []"
   ]
  },
  {
   "cell_type": "code",
   "execution_count": 21,
   "id": "bdbfb218-fffe-4224-ac44-dc3bd3a53ae0",
   "metadata": {},
   "outputs": [
    {
     "data": {
      "text/plain": [
       "list"
      ]
     },
     "execution_count": 21,
     "metadata": {},
     "output_type": "execute_result"
    }
   ],
   "source": [
    "# check the type\n",
    "\n",
    "type(list_1)"
   ]
  },
  {
   "cell_type": "code",
   "execution_count": 25,
   "id": "4973fff4-ada2-450d-a9bf-9b9d551600ba",
   "metadata": {},
   "outputs": [
    {
     "data": {
      "text/plain": [
       "['apple', 'banana', 'pears', 'apple']"
      ]
     },
     "execution_count": 25,
     "metadata": {},
     "output_type": "execute_result"
    }
   ],
   "source": [
    "# create a list\n",
    "\n",
    "fruit = [\"apple\", \"banana\", \"pears\", \"apple\"]\n",
    "fruit"
   ]
  },
  {
   "cell_type": "code",
   "execution_count": 26,
   "id": "867fcf02-0610-4b85-8328-dae3ba42ddf8",
   "metadata": {},
   "outputs": [
    {
     "data": {
      "text/plain": [
       "'apple'"
      ]
     },
     "execution_count": 26,
     "metadata": {},
     "output_type": "execute_result"
    }
   ],
   "source": [
    "# first item \n",
    "fruit[0]"
   ]
  },
  {
   "cell_type": "code",
   "execution_count": 27,
   "id": "7dbac00f-a1db-41b2-af29-a02290b82301",
   "metadata": {},
   "outputs": [
    {
     "data": {
      "text/plain": [
       "'apple'"
      ]
     },
     "execution_count": 27,
     "metadata": {},
     "output_type": "execute_result"
    }
   ],
   "source": [
    "# last item\n",
    "fruit[-1]"
   ]
  },
  {
   "cell_type": "code",
   "execution_count": 30,
   "id": "0c76d06c-ee46-4623-bf18-34bdcf5642d8",
   "metadata": {},
   "outputs": [
    {
     "data": {
      "text/plain": [
       "['banana', 'pears']"
      ]
     },
     "execution_count": 30,
     "metadata": {},
     "output_type": "execute_result"
    }
   ],
   "source": [
    "# index a list\n",
    "fruit[1:3]"
   ]
  },
  {
   "cell_type": "code",
   "execution_count": 31,
   "id": "6864d93a-e695-4e17-b9d8-4bbc443fff7a",
   "metadata": {},
   "outputs": [
    {
     "data": {
      "text/plain": [
       "['apple', 'pears', 'banana', 'apple']"
      ]
     },
     "execution_count": 31,
     "metadata": {},
     "output_type": "execute_result"
    }
   ],
   "source": [
    "# reverse the order of the list\n",
    "fruit[::-1]"
   ]
  },
  {
   "cell_type": "code",
   "execution_count": 32,
   "id": "19e64c25-46fc-44b7-b785-98f2b4a5ea67",
   "metadata": {},
   "outputs": [
    {
     "data": {
      "text/plain": [
       "['apple', 'banana', 'pears', 'apple']"
      ]
     },
     "execution_count": 32,
     "metadata": {},
     "output_type": "execute_result"
    }
   ],
   "source": [
    "fruit"
   ]
  },
  {
   "cell_type": "code",
   "execution_count": 34,
   "id": "55be7092-77d0-495a-9edb-5c6cd650daff",
   "metadata": {},
   "outputs": [],
   "source": [
    "summer_fruit = ['mangoes', 'strawberries', 'pineapple']"
   ]
  },
  {
   "cell_type": "code",
   "execution_count": 35,
   "id": "407b9398-00cf-4d5a-80ea-a861a657c7a2",
   "metadata": {},
   "outputs": [],
   "source": [
    "fruit.append(summer_fruit)"
   ]
  },
  {
   "cell_type": "code",
   "execution_count": 37,
   "id": "af028a70-59f9-41a2-b66b-d4ff2764526f",
   "metadata": {},
   "outputs": [
    {
     "name": "stdout",
     "output_type": "stream",
     "text": [
      "['apple', 'banana', 'pears', 'apple', ['mangoes', 'strawberries', 'pineapple']]\n"
     ]
    }
   ],
   "source": [
    "print(fruit)"
   ]
  },
  {
   "cell_type": "code",
   "execution_count": 38,
   "id": "ec8ed8f1-154c-48e8-a68e-1bee624812b6",
   "metadata": {},
   "outputs": [],
   "source": [
    "fruit.extend(summer_fruit)"
   ]
  },
  {
   "cell_type": "code",
   "execution_count": 39,
   "id": "16ab9717-b412-42a7-97a2-0360d2eb5101",
   "metadata": {},
   "outputs": [
    {
     "data": {
      "text/plain": [
       "['apple',\n",
       " 'banana',\n",
       " 'pears',\n",
       " 'apple',\n",
       " ['mangoes', 'strawberries', 'pineapple'],\n",
       " 'mangoes',\n",
       " 'strawberries',\n",
       " 'pineapple']"
      ]
     },
     "execution_count": 39,
     "metadata": {},
     "output_type": "execute_result"
    }
   ],
   "source": [
    "fruit"
   ]
  },
  {
   "cell_type": "code",
   "execution_count": 40,
   "id": "91094596-b559-4fe4-8944-bd46cfc3354c",
   "metadata": {},
   "outputs": [
    {
     "data": {
      "text/plain": [
       "1"
      ]
     },
     "execution_count": 40,
     "metadata": {},
     "output_type": "execute_result"
    }
   ],
   "source": [
    "fruit.count(\"mangoes\")"
   ]
  },
  {
   "cell_type": "code",
   "execution_count": 41,
   "id": "4611a3a8-797a-403d-9e98-d7ae1a2c9e53",
   "metadata": {},
   "outputs": [
    {
     "data": {
      "text/plain": [
       "12"
      ]
     },
     "execution_count": 41,
     "metadata": {},
     "output_type": "execute_result"
    }
   ],
   "source": [
    "len(\"strawberries\")"
   ]
  },
  {
   "cell_type": "code",
   "execution_count": 42,
   "id": "9a64e9c2-b183-46f4-8d1b-33b619a251de",
   "metadata": {},
   "outputs": [
    {
     "data": {
      "text/plain": [
       "8"
      ]
     },
     "execution_count": 42,
     "metadata": {},
     "output_type": "execute_result"
    }
   ],
   "source": [
    "len(fruit)"
   ]
  },
  {
   "cell_type": "code",
   "execution_count": 43,
   "id": "071098a5-1c78-4779-8ffe-f6f908012da8",
   "metadata": {},
   "outputs": [],
   "source": [
    "num_list = [67, 788]\n",
    "bool_list = [True, False, True]\n",
    "num_list.extend(bool_list)"
   ]
  },
  {
   "cell_type": "code",
   "execution_count": 44,
   "id": "3c9ba77c-06db-4a97-aebd-d8d51bcf0bbb",
   "metadata": {},
   "outputs": [
    {
     "data": {
      "text/plain": [
       "[67, 788, True, False, True]"
      ]
     },
     "execution_count": 44,
     "metadata": {},
     "output_type": "execute_result"
    }
   ],
   "source": [
    "num_list"
   ]
  },
  {
   "cell_type": "code",
   "execution_count": 47,
   "id": "fe2964e2-b92a-4fd6-90fb-c6ed00f7cfc6",
   "metadata": {},
   "outputs": [
    {
     "data": {
      "text/plain": [
       "['apple', 'banana', 'cherry']"
      ]
     },
     "execution_count": 47,
     "metadata": {},
     "output_type": "execute_result"
    }
   ],
   "source": [
    "# list constructor to create lists\n",
    "fruit2 = list((\"apple\", \"banana\", \"cherry\"))\n",
    "fruit2"
   ]
  },
  {
   "cell_type": "code",
   "execution_count": 48,
   "id": "18965216-1fe2-4318-bb74-26b741740115",
   "metadata": {},
   "outputs": [
    {
     "data": {
      "text/plain": [
       "list"
      ]
     },
     "execution_count": 48,
     "metadata": {},
     "output_type": "execute_result"
    }
   ],
   "source": [
    "type(fruit2)"
   ]
  },
  {
   "cell_type": "code",
   "execution_count": 60,
   "id": "77c72f98-c43b-4443-881e-c0d8746462ef",
   "metadata": {},
   "outputs": [
    {
     "data": {
      "text/plain": [
       "'hello class how are you? yo yo!'"
      ]
     },
     "execution_count": 60,
     "metadata": {},
     "output_type": "execute_result"
    }
   ],
   "source": [
    "my_list = [\"hello\", \"class\", \"how\", \"are\", \"you?\", \"yo\", \"yo!\"]\n",
    "\" \".join(my_list)"
   ]
  },
  {
   "cell_type": "code",
   "execution_count": null,
   "id": "e45f44b4-cac4-4f43-920f-a48ef1434839",
   "metadata": {},
   "outputs": [],
   "source": []
  }
 ],
 "metadata": {
  "kernelspec": {
   "display_name": "Python 3 (ipykernel)",
   "language": "python",
   "name": "python3"
  },
  "language_info": {
   "codemirror_mode": {
    "name": "ipython",
    "version": 3
   },
   "file_extension": ".py",
   "mimetype": "text/x-python",
   "name": "python",
   "nbconvert_exporter": "python",
   "pygments_lexer": "ipython3",
   "version": "3.12.3"
  }
 },
 "nbformat": 4,
 "nbformat_minor": 5
}
