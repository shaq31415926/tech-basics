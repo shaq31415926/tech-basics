{
 "cells": [
  {
   "cell_type": "code",
   "execution_count": 7,
   "id": "40067ef0-7367-4695-b006-76beeb832bea",
   "metadata": {},
   "outputs": [
    {
     "name": "stdout",
     "output_type": "stream",
     "text": [
      "The current number is 0\n",
      "The current number is 1\n",
      "The current number is 2\n",
      "The current number is 3\n",
      "The current number is 4\n",
      "The current number is 5\n"
     ]
    }
   ],
   "source": [
    "# Activity: Print i as long it is less than 6\n",
    "\n",
    "i = 0 # create a variable i\n",
    "\n",
    "while i < 6:\n",
    "    print(f\"The current number is {i}\")\n",
    "    # i = i + 1\n",
    "    i += 1 # this adds one to the variable i "
   ]
  },
  {
   "cell_type": "code",
   "execution_count": 9,
   "id": "c25dceca-1ec2-4e7a-ba67-0626b3307f9d",
   "metadata": {},
   "outputs": [
    {
     "name": "stdout",
     "output_type": "stream",
     "text": [
      "The current number is 0\n",
      "The current number is 1\n",
      "The current number is 2\n",
      "The current number is 3\n",
      "The current number is 4\n",
      "The current number is 5\n",
      "i is no longer less than 6\n"
     ]
    }
   ],
   "source": [
    "i = 0 # create a variable i\n",
    "\n",
    "while i < 6:\n",
    "    print(f\"The current number is {i}\")\n",
    "    # i = i + 1\n",
    "    i += 1 # this adds one to the variable i \n",
    "else:\n",
    "    print(\"i is no longer less than 6\")"
   ]
  },
  {
   "cell_type": "code",
   "execution_count": 11,
   "id": "e57a9d7f-a6c8-4ca8-b802-1fe45db9d2b9",
   "metadata": {},
   "outputs": [
    {
     "name": "stdout",
     "output_type": "stream",
     "text": [
      "The current number is 1\n",
      "The current number is 2\n",
      "YO\n",
      "The current number is 3\n"
     ]
    }
   ],
   "source": [
    "i = 1\n",
    "\n",
    "while i < 6:\n",
    "    print(f\"The current number is {i}\")\n",
    "    # breaks your loop\n",
    "    if i == 3:\n",
    "        break\n",
    "    i += 1"
   ]
  },
  {
   "cell_type": "code",
   "execution_count": 12,
   "id": "c54902de-5e5e-4b90-8ee4-1f73a06a743c",
   "metadata": {},
   "outputs": [
    {
     "name": "stdout",
     "output_type": "stream",
     "text": [
      "1\n",
      "2\n",
      "4\n",
      "5\n",
      "6\n"
     ]
    }
   ],
   "source": [
    "i = 0\n",
    "\n",
    "while i < 6:\n",
    "    i += 1\n",
    "    # once the condition is met it skips over three\n",
    "    if i == 3:\n",
    "        continue\n",
    "    print(i)"
   ]
  },
  {
   "cell_type": "code",
   "execution_count": 13,
   "id": "14a4a06d-7a90-4b9f-b5e2-00cd56347583",
   "metadata": {},
   "outputs": [],
   "source": [
    "list_1 = []"
   ]
  },
  {
   "cell_type": "code",
   "execution_count": 14,
   "id": "50f8d08e-ef1d-44c6-a9b7-7fb1dcf16e04",
   "metadata": {},
   "outputs": [
    {
     "data": {
      "text/plain": [
       "list"
      ]
     },
     "execution_count": 14,
     "metadata": {},
     "output_type": "execute_result"
    }
   ],
   "source": [
    "type(list_1)"
   ]
  },
  {
   "cell_type": "code",
   "execution_count": 20,
   "id": "e152034f-3434-4c75-b921-a59674cce202",
   "metadata": {},
   "outputs": [
    {
     "data": {
      "text/plain": [
       "['apple', 'banana', 'pears', 'apple']"
      ]
     },
     "execution_count": 20,
     "metadata": {},
     "output_type": "execute_result"
    }
   ],
   "source": [
    "fruits = [\"apple\", \"banana\", \"pears\", \"apple\"] \n",
    "fruits"
   ]
  },
  {
   "cell_type": "code",
   "execution_count": 21,
   "id": "324df733-2c3e-4d2e-a40f-e4bf4b543733",
   "metadata": {},
   "outputs": [
    {
     "data": {
      "text/plain": [
       "2"
      ]
     },
     "execution_count": 21,
     "metadata": {},
     "output_type": "execute_result"
    }
   ],
   "source": [
    "fruits.count(\"apple\")"
   ]
  },
  {
   "cell_type": "code",
   "execution_count": 22,
   "id": "272a8cd5-511a-4b6b-bb66-320f97841c0b",
   "metadata": {},
   "outputs": [
    {
     "data": {
      "text/plain": [
       "'apple'"
      ]
     },
     "execution_count": 22,
     "metadata": {},
     "output_type": "execute_result"
    }
   ],
   "source": [
    "fruits[0]"
   ]
  },
  {
   "cell_type": "code",
   "execution_count": 27,
   "id": "06dd97b1-16bd-4403-a7cd-9e2521d58f49",
   "metadata": {},
   "outputs": [
    {
     "data": {
      "text/plain": [
       "['banana', 'pears']"
      ]
     },
     "execution_count": 27,
     "metadata": {},
     "output_type": "execute_result"
    }
   ],
   "source": [
    "fruits[1:3]"
   ]
  },
  {
   "cell_type": "code",
   "execution_count": 28,
   "id": "6013892f-06fc-407e-bfd0-3133f9a86227",
   "metadata": {},
   "outputs": [
    {
     "data": {
      "text/plain": [
       "'apple'"
      ]
     },
     "execution_count": 28,
     "metadata": {},
     "output_type": "execute_result"
    }
   ],
   "source": [
    "fruits[-1]"
   ]
  },
  {
   "cell_type": "code",
   "execution_count": 29,
   "id": "b941ad6e-ea0f-4992-9c81-10436c6d8596",
   "metadata": {},
   "outputs": [
    {
     "data": {
      "text/plain": [
       "['apple', 'pears', 'banana', 'apple']"
      ]
     },
     "execution_count": 29,
     "metadata": {},
     "output_type": "execute_result"
    }
   ],
   "source": [
    "fruits[::-1]"
   ]
  },
  {
   "cell_type": "code",
   "execution_count": 30,
   "id": "39861134-5ff4-4e95-a6ce-57a8a12ffb68",
   "metadata": {},
   "outputs": [
    {
     "data": {
      "text/plain": [
       "['apple', 'banana', 'pears', 'apple']"
      ]
     },
     "execution_count": 30,
     "metadata": {},
     "output_type": "execute_result"
    }
   ],
   "source": [
    "fruits"
   ]
  },
  {
   "cell_type": "code",
   "execution_count": 31,
   "id": "98ceafab-13c1-401f-99e0-af8870d8014c",
   "metadata": {},
   "outputs": [],
   "source": [
    "summer_fruit = [\"watermelon\", \"mango\", \"strawberries\"]"
   ]
  },
  {
   "cell_type": "code",
   "execution_count": 32,
   "id": "1394e7fb-8595-4304-98ae-b8dbb6f07eee",
   "metadata": {},
   "outputs": [],
   "source": [
    "fruits.append(summer_fruit)"
   ]
  },
  {
   "cell_type": "code",
   "execution_count": 33,
   "id": "90fe7a52-2056-4c02-8904-7115236f4203",
   "metadata": {},
   "outputs": [
    {
     "data": {
      "text/plain": [
       "['apple', 'banana', 'pears', 'apple', ['watermelon', 'mango', 'strawberries']]"
      ]
     },
     "execution_count": 33,
     "metadata": {},
     "output_type": "execute_result"
    }
   ],
   "source": [
    "fruits"
   ]
  },
  {
   "cell_type": "code",
   "execution_count": 34,
   "id": "7c2ebd0b-7fc8-41d5-a0ee-dd9b13462ecf",
   "metadata": {},
   "outputs": [],
   "source": [
    "fruits.extend(summer_fruit)"
   ]
  },
  {
   "cell_type": "code",
   "execution_count": 35,
   "id": "7c91b438-25f6-4d7f-972a-1d5c0c0e3fe0",
   "metadata": {},
   "outputs": [
    {
     "data": {
      "text/plain": [
       "['apple',\n",
       " 'banana',\n",
       " 'pears',\n",
       " 'apple',\n",
       " ['watermelon', 'mango', 'strawberries'],\n",
       " 'watermelon',\n",
       " 'mango',\n",
       " 'strawberries']"
      ]
     },
     "execution_count": 35,
     "metadata": {},
     "output_type": "execute_result"
    }
   ],
   "source": [
    "fruits"
   ]
  },
  {
   "cell_type": "code",
   "execution_count": 36,
   "id": "f35b2a15-0aee-4171-b69a-5277e46d8393",
   "metadata": {},
   "outputs": [
    {
     "data": {
      "text/plain": [
       "1"
      ]
     },
     "execution_count": 36,
     "metadata": {},
     "output_type": "execute_result"
    }
   ],
   "source": [
    "fruits.count(\"watermelon\")"
   ]
  },
  {
   "cell_type": "code",
   "execution_count": 37,
   "id": "fed8160c-2f2a-4415-9797-933d38581987",
   "metadata": {},
   "outputs": [
    {
     "data": {
      "text/plain": [
       "1"
      ]
     },
     "execution_count": 37,
     "metadata": {},
     "output_type": "execute_result"
    }
   ],
   "source": [
    "fruits.count(\"mango\")"
   ]
  },
  {
   "cell_type": "code",
   "execution_count": 38,
   "id": "fe1b4bc2-0c74-41c1-a911-1f0bb8a79eb9",
   "metadata": {},
   "outputs": [
    {
     "data": {
      "text/plain": [
       "12"
      ]
     },
     "execution_count": 38,
     "metadata": {},
     "output_type": "execute_result"
    }
   ],
   "source": [
    "len(\"strawberries\")"
   ]
  },
  {
   "cell_type": "code",
   "execution_count": 39,
   "id": "ed898189-1265-43dc-a5ac-d4e803ab49fb",
   "metadata": {},
   "outputs": [
    {
     "data": {
      "text/plain": [
       "8"
      ]
     },
     "execution_count": 39,
     "metadata": {},
     "output_type": "execute_result"
    }
   ],
   "source": [
    "len(fruits)"
   ]
  },
  {
   "cell_type": "code",
   "execution_count": 41,
   "id": "e456ec00-c282-4d6c-9be4-67c38c2caa3b",
   "metadata": {},
   "outputs": [],
   "source": [
    "fruits.remove(\"watermelon\")"
   ]
  },
  {
   "cell_type": "code",
   "execution_count": 42,
   "id": "6c28c40f-25ce-4c3e-a750-6ec57143ec80",
   "metadata": {},
   "outputs": [],
   "source": [
    "del fruits[5]"
   ]
  },
  {
   "cell_type": "code",
   "execution_count": 43,
   "id": "b4bb784c-f407-4a8c-a560-9f9062bbaada",
   "metadata": {},
   "outputs": [
    {
     "data": {
      "text/plain": [
       "['apple',\n",
       " 'banana',\n",
       " 'pears',\n",
       " 'apple',\n",
       " ['watermelon', 'mango', 'strawberries'],\n",
       " 'strawberries']"
      ]
     },
     "execution_count": 43,
     "metadata": {},
     "output_type": "execute_result"
    }
   ],
   "source": [
    "fruits"
   ]
  },
  {
   "cell_type": "code",
   "execution_count": 46,
   "id": "e0518826-2b69-452d-bfef-4af13c10f251",
   "metadata": {},
   "outputs": [],
   "source": [
    "fruits.remove(summer_fruit)"
   ]
  },
  {
   "cell_type": "code",
   "execution_count": 47,
   "id": "d698a730-8749-4843-8d15-e659ed82c7de",
   "metadata": {},
   "outputs": [
    {
     "data": {
      "text/plain": [
       "['apple', 'banana', 'pears', 'apple', 'strawberries']"
      ]
     },
     "execution_count": 47,
     "metadata": {},
     "output_type": "execute_result"
    }
   ],
   "source": [
    "fruits"
   ]
  },
  {
   "cell_type": "code",
   "execution_count": 48,
   "id": "b34a0516-e8ca-4448-93d6-54e660827d71",
   "metadata": {},
   "outputs": [],
   "source": [
    "num_list = [67, 768, 8]\n",
    "bool_list = [True, False, True]\n",
    "\n",
    "num_list.extend(bool_list)"
   ]
  },
  {
   "cell_type": "code",
   "execution_count": 49,
   "id": "3c2be469-972d-42cd-98ac-65ceac85aee3",
   "metadata": {},
   "outputs": [
    {
     "data": {
      "text/plain": [
       "[67, 768, 8, True, False, True]"
      ]
     },
     "execution_count": 49,
     "metadata": {},
     "output_type": "execute_result"
    }
   ],
   "source": [
    "num_list"
   ]
  },
  {
   "cell_type": "code",
   "execution_count": 50,
   "id": "0c8f2213-842b-48c4-98ee-20fe53b56e96",
   "metadata": {},
   "outputs": [
    {
     "data": {
      "text/plain": [
       "['apple', 'banana', 'cherry']"
      ]
     },
     "execution_count": 50,
     "metadata": {},
     "output_type": "execute_result"
    }
   ],
   "source": [
    "fruit2 = list((\"apple\", \"banana\", \"cherry\"))\n",
    "fruit2"
   ]
  },
  {
   "cell_type": "code",
   "execution_count": 66,
   "id": "48edb23d-31be-4a17-a429-5399a54c2332",
   "metadata": {},
   "outputs": [
    {
     "data": {
      "text/plain": [
       "'hello class we are learning python?'"
      ]
     },
     "execution_count": 66,
     "metadata": {},
     "output_type": "execute_result"
    }
   ],
   "source": [
    "my_list = [\"hello\", \"class\", \"we\", \"are\", \"learning\", \"python?\"]\n",
    "\" \".join(my_list)"
   ]
  }
 ],
 "metadata": {
  "kernelspec": {
   "display_name": "Python 3 (ipykernel)",
   "language": "python",
   "name": "python3"
  },
  "language_info": {
   "codemirror_mode": {
    "name": "ipython",
    "version": 3
   },
   "file_extension": ".py",
   "mimetype": "text/x-python",
   "name": "python",
   "nbconvert_exporter": "python",
   "pygments_lexer": "ipython3",
   "version": "3.12.3"
  }
 },
 "nbformat": 4,
 "nbformat_minor": 5
}
