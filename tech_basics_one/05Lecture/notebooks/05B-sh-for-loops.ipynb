{
 "cells": [
  {
   "cell_type": "code",
   "execution_count": 3,
   "id": "e13c27e7-77c0-40e9-98ae-921ce3eb698e",
   "metadata": {},
   "outputs": [
    {
     "name": "stdout",
     "output_type": "stream",
     "text": [
      "b\n",
      "a\n",
      "n\n",
      "a\n",
      "n\n",
      "a\n",
      "n\n",
      "a\n",
      "n\n",
      "a\n",
      "n\n",
      "a\n"
     ]
    }
   ],
   "source": [
    "for letter in \"bananananana\":\n",
    "    print(letter)"
   ]
  },
  {
   "cell_type": "code",
   "execution_count": 31,
   "id": "c6e70964-b1aa-4f39-9e01-7cc7ee98168e",
   "metadata": {},
   "outputs": [
    {
     "name": "stdout",
     "output_type": "stream",
     "text": [
      "b\n",
      "a\n",
      "n\n",
      "a\n",
      "n\n",
      "a\n"
     ]
    }
   ],
   "source": [
    "for letter in \"banana\":\n",
    "    print(letter)\n",
    "    if letter == \"n\":\n",
    "        break"
   ]
  },
  {
   "cell_type": "code",
   "execution_count": 38,
   "id": "a8b877e0-badc-432a-92ce-33dd21957af0",
   "metadata": {},
   "outputs": [
    {
     "name": "stdout",
     "output_type": "stream",
     "text": [
      "b\n",
      "The list before append []\n",
      "The list after append ['b']\n",
      "a\n",
      "The list before append ['b']\n",
      "The list after append ['b', 'a']\n",
      "n\n",
      "The list before append ['b', 'a']\n",
      "The list after append ['b', 'a', 'n']\n",
      "a\n",
      "The list before append ['b', 'a', 'n']\n",
      "The list after append ['b', 'a', 'n', 'a']\n",
      "n\n",
      "The list before append ['b', 'a', 'n', 'a']\n",
      "The list after append ['b', 'a', 'n', 'a', 'n']\n",
      "a\n",
      "The list before append ['b', 'a', 'n', 'a', 'n']\n",
      "The list after append ['b', 'a', 'n', 'a', 'n', 'a']\n",
      "n\n",
      "The list before append ['b', 'a', 'n', 'a', 'n', 'a']\n",
      "The list after append ['b', 'a', 'n', 'a', 'n', 'a', 'n']\n"
     ]
    }
   ],
   "source": [
    "# CHALLENGE: How do you exit the loop on the second n?\n",
    "\n",
    "letters = []\n",
    "\n",
    "for l in \"bananananananana\":\n",
    "    print(l)\n",
    "    print(\"The list before append\", letters)\n",
    "    letters.append(l)\n",
    "    print(\"The list after append\", letters)\n",
    "    if letters.count(\"n\") == 3:\n",
    "        break"
   ]
  },
  {
   "cell_type": "code",
   "execution_count": 29,
   "id": "b5fc2232-41b4-477a-aa8c-25e2e109d32d",
   "metadata": {},
   "outputs": [
    {
     "name": "stdout",
     "output_type": "stream",
     "text": [
      "Y\n",
      "o\n"
     ]
    }
   ],
   "source": [
    "dummy = \"Yo\"\n",
    "\n",
    "for d in dummy:\n",
    "    print(d)"
   ]
  },
  {
   "cell_type": "code",
   "execution_count": 13,
   "id": "966054ed-8781-4c35-b555-7681ba6e6a6a",
   "metadata": {},
   "outputs": [
    {
     "name": "stdout",
     "output_type": "stream",
     "text": [
      "20\n",
      "30\n",
      "40\n",
      "50\n",
      "60\n",
      "70\n",
      "80\n",
      "90\n"
     ]
    }
   ],
   "source": [
    "for number in range(20, 100, 10):\n",
    "    print(number)"
   ]
  },
  {
   "cell_type": "code",
   "execution_count": 22,
   "id": "124d5f73-26e4-46fa-8e4e-bcedd3e18709",
   "metadata": {},
   "outputs": [
    {
     "name": "stdout",
     "output_type": "stream",
     "text": [
      "I love apple\n",
      "I love banana\n",
      "I love pears\n",
      "I love mangoes\n"
     ]
    }
   ],
   "source": [
    "fruits = ['apple', 'banana', 'pears', 'mangoes']\n",
    "for fruit in fruits:\n",
    "    print(f\"I love {fruit}\")"
   ]
  },
  {
   "cell_type": "code",
   "execution_count": 44,
   "id": "629feb60-6718-44a4-b175-b18628a54494",
   "metadata": {},
   "outputs": [
    {
     "name": "stdout",
     "output_type": "stream",
     "text": [
      "25\n",
      "50\n",
      "75\n",
      "100\n",
      "335\n",
      "380\n",
      "390\n"
     ]
    }
   ],
   "source": [
    "numbers = [5, 10, 15, 20, 67, 76, 78]\n",
    "\n",
    "for n in numbers:\n",
    "    print(5*n)"
   ]
  },
  {
   "cell_type": "code",
   "execution_count": 51,
   "id": "471a5594-ea84-4b58-a3e9-d65f01c68476",
   "metadata": {},
   "outputs": [
    {
     "data": {
      "text/plain": [
       "[50, 100, 150, 200]"
      ]
     },
     "execution_count": 51,
     "metadata": {},
     "output_type": "execute_result"
    }
   ],
   "source": [
    "# create a new list that multiplies every item in the list\n",
    "\n",
    "numbers = [5, 10, 15, 20]\n",
    "new_list = [10*n for n in numbers]\n",
    "new_list"
   ]
  },
  {
   "cell_type": "code",
   "execution_count": null,
   "id": "9652c26a-fa4c-4696-b332-c1e8ddfb38e2",
   "metadata": {},
   "outputs": [],
   "source": []
  }
 ],
 "metadata": {
  "kernelspec": {
   "display_name": "Python 3 (ipykernel)",
   "language": "python",
   "name": "python3"
  },
  "language_info": {
   "codemirror_mode": {
    "name": "ipython",
    "version": 3
   },
   "file_extension": ".py",
   "mimetype": "text/x-python",
   "name": "python",
   "nbconvert_exporter": "python",
   "pygments_lexer": "ipython3",
   "version": "3.12.3"
  }
 },
 "nbformat": 4,
 "nbformat_minor": 5
}
