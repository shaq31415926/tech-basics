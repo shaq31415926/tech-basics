{
 "cells": [
  {
   "cell_type": "code",
   "execution_count": 18,
   "id": "48c086c3-9b14-4835-a962-d4a0cce15944",
   "metadata": {},
   "outputs": [],
   "source": [
    "thisdict = {\n",
    "    \"brand\": \"Ford\",\n",
    "    \"model\": \"Mustang\",\n",
    "    \"year\": 1964\n",
    "    }"
   ]
  },
  {
   "cell_type": "code",
   "execution_count": 19,
   "id": "5d1310ee-f141-4e42-98f5-e9c2f28fc573",
   "metadata": {},
   "outputs": [
    {
     "data": {
      "text/plain": [
       "dict"
      ]
     },
     "execution_count": 19,
     "metadata": {},
     "output_type": "execute_result"
    }
   ],
   "source": [
    "type(thisdict)"
   ]
  },
  {
   "cell_type": "code",
   "execution_count": 6,
   "id": "cbb27ef3-284b-4d93-9348-a41bb494f96c",
   "metadata": {},
   "outputs": [
    {
     "data": {
      "text/plain": [
       "dict_keys(['model_name', 'year'])"
      ]
     },
     "execution_count": 6,
     "metadata": {},
     "output_type": "execute_result"
    }
   ],
   "source": [
    "thisdict.keys()"
   ]
  },
  {
   "cell_type": "code",
   "execution_count": 7,
   "id": "08647a4b-1f5c-4245-9ddc-d33b5ed21445",
   "metadata": {},
   "outputs": [
    {
     "data": {
      "text/plain": [
       "dict_values(['Ford', 1964])"
      ]
     },
     "execution_count": 7,
     "metadata": {},
     "output_type": "execute_result"
    }
   ],
   "source": [
    "thisdict.values()"
   ]
  },
  {
   "cell_type": "code",
   "execution_count": 20,
   "id": "c9a8b4f1-a275-44ea-9e79-d4627ba64798",
   "metadata": {},
   "outputs": [
    {
     "data": {
      "text/plain": [
       "dict_items([('brand', 'Ford'), ('model', 'Mustang'), ('year', 1964)])"
      ]
     },
     "execution_count": 20,
     "metadata": {},
     "output_type": "execute_result"
    }
   ],
   "source": [
    "thisdict.items()"
   ]
  },
  {
   "cell_type": "code",
   "execution_count": 8,
   "id": "9a047f1d-23d2-4e3d-9db2-c1a60b6cc8ad",
   "metadata": {},
   "outputs": [
    {
     "data": {
      "text/plain": [
       "dict"
      ]
     },
     "execution_count": 8,
     "metadata": {},
     "output_type": "execute_result"
    }
   ],
   "source": [
    "type(thisdict)"
   ]
  },
  {
   "cell_type": "code",
   "execution_count": 25,
   "id": "3e270ac0-e346-485a-9fe7-26c2bbc07ab1",
   "metadata": {},
   "outputs": [],
   "source": [
    "thisdict = {\n",
    "    \"brand\": [\"Ford\", \"BMW\", \"Mercedes\"],\n",
    "    \"model\": \"Mustang\",\n",
    "    \"year\": 1964,\n",
    "    \"year\": 2020\n",
    "    }"
   ]
  },
  {
   "cell_type": "code",
   "execution_count": 26,
   "id": "435b975c-5750-4147-861c-7140d7abc421",
   "metadata": {},
   "outputs": [
    {
     "data": {
      "text/plain": [
       "{'brand': ['Ford', 'BMW', 'Mercedes'], 'model': 'Mustang', 'year': 2020}"
      ]
     },
     "execution_count": 26,
     "metadata": {},
     "output_type": "execute_result"
    }
   ],
   "source": [
    "thisdict"
   ]
  },
  {
   "cell_type": "code",
   "execution_count": 29,
   "id": "dec8e326-dcd9-41b8-997d-73908dca44c3",
   "metadata": {},
   "outputs": [
    {
     "data": {
      "text/plain": [
       "['Ford', 'BMW', 'Mercedes']"
      ]
     },
     "execution_count": 29,
     "metadata": {},
     "output_type": "execute_result"
    }
   ],
   "source": [
    "# get the value \n",
    "# option 1\n",
    "brand_list = thisdict[\"brand\"]\n",
    "brand_list"
   ]
  },
  {
   "cell_type": "code",
   "execution_count": 30,
   "id": "b1d2d45e-f8bb-47be-a815-707b18d46683",
   "metadata": {},
   "outputs": [
    {
     "name": "stdout",
     "output_type": "stream",
     "text": [
      "Ford\n",
      "BMW\n",
      "Mercedes\n"
     ]
    }
   ],
   "source": [
    "for brand in brand_list:\n",
    "    print(brand)"
   ]
  },
  {
   "cell_type": "code",
   "execution_count": 28,
   "id": "a6784b82-492c-4ebb-b8e0-27deeea37249",
   "metadata": {},
   "outputs": [
    {
     "data": {
      "text/plain": [
       "['Ford', 'BMW', 'Mercedes']"
      ]
     },
     "execution_count": 28,
     "metadata": {},
     "output_type": "execute_result"
    }
   ],
   "source": [
    "# option 2\n",
    "thisdict.get(\"brand\")"
   ]
  },
  {
   "cell_type": "code",
   "execution_count": 32,
   "id": "02de55b2-a5d7-49d7-8b94-7f3ff08578c3",
   "metadata": {},
   "outputs": [
    {
     "data": {
      "text/plain": [
       "{'footballs': 100, 'bats': 40, 'gloves': 80}"
      ]
     },
     "execution_count": 32,
     "metadata": {},
     "output_type": "execute_result"
    }
   ],
   "source": [
    "# merging two lists into a dictionary\n",
    "items = [\"footballs\", \"bats\", \"gloves\"]\n",
    "price = [100, 40, 80]\n",
    "\n",
    "dict(zip(items, price))"
   ]
  },
  {
   "cell_type": "code",
   "execution_count": 13,
   "id": "22cb4eb1-d02d-4d23-b107-ab2397a21060",
   "metadata": {},
   "outputs": [
    {
     "name": "stdout",
     "output_type": "stream",
     "text": [
      "The item is footballs and the price is 100\n",
      "The item is bats and the price is 40\n",
      "The item is gloves and the price is 80\n"
     ]
    }
   ],
   "source": [
    "# looping through two lists\n",
    "items = [\"footballs\", \"bats\", \"gloves\"]\n",
    "price = [100, 40, 80]\n",
    "\n",
    "for i, v in zip(items, price):\n",
    "    print(f\"The item is {i} and the price is {v}\")"
   ]
  },
  {
   "cell_type": "code",
   "execution_count": null,
   "id": "188ac9ee-1bce-4d6b-aa19-78a5b301e383",
   "metadata": {},
   "outputs": [],
   "source": []
  }
 ],
 "metadata": {
  "kernelspec": {
   "display_name": "Python 3 (ipykernel)",
   "language": "python",
   "name": "python3"
  },
  "language_info": {
   "codemirror_mode": {
    "name": "ipython",
    "version": 3
   },
   "file_extension": ".py",
   "mimetype": "text/x-python",
   "name": "python",
   "nbconvert_exporter": "python",
   "pygments_lexer": "ipython3",
   "version": "3.12.3"
  }
 },
 "nbformat": 4,
 "nbformat_minor": 5
}
