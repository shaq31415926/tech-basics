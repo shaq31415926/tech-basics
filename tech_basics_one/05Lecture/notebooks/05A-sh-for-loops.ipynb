{
 "cells": [
  {
   "cell_type": "code",
   "execution_count": 2,
   "id": "d9ac044c-1e90-44f9-8e53-9892fd432ee5",
   "metadata": {},
   "outputs": [
    {
     "name": "stdout",
     "output_type": "stream",
     "text": [
      "b\n",
      "a\n",
      "n\n",
      "a\n",
      "n\n",
      "a\n"
     ]
    }
   ],
   "source": [
    "# loop through the letters in the string banana\n",
    "\n",
    "for letter in \"banana\":\n",
    "    print(letter)"
   ]
  },
  {
   "cell_type": "code",
   "execution_count": 3,
   "id": "349bc602-4fdd-4de5-aff1-c4b2a2f78c29",
   "metadata": {},
   "outputs": [
    {
     "name": "stdout",
     "output_type": "stream",
     "text": [
      "b\n",
      "a\n",
      "n\n",
      "goodbye\n"
     ]
    }
   ],
   "source": [
    "# you can break the loop with an if condition and break statement\n",
    "\n",
    "for letter in \"banana\":\n",
    "    print(letter)\n",
    "    if letter == \"n\":\n",
    "        print(\"goodbye\")\n",
    "        break"
   ]
  },
  {
   "cell_type": "code",
   "execution_count": 3,
   "id": "e4e11cc8-a5fa-40bc-a3c5-391879f10c2e",
   "metadata": {},
   "outputs": [
    {
     "name": "stdout",
     "output_type": "stream",
     "text": [
      "b\n",
      "The list before append: []\n",
      "The list after append: ['b']\n",
      "a\n",
      "The list before append: ['b']\n",
      "The list after append: ['b', 'a']\n",
      "n\n",
      "The list before append: ['b', 'a']\n",
      "The list after append: ['b', 'a', 'n']\n",
      "a\n",
      "The list before append: ['b', 'a', 'n']\n",
      "The list after append: ['b', 'a', 'n', 'a']\n"
     ]
    }
   ],
   "source": [
    "letters = []\n",
    "\n",
    "for l in \"banana\":\n",
    "    print(l)\n",
    "    print(\"The list before append:\", letters)\n",
    "    letters.append(l)\n",
    "    print(\"The list after append:\", letters)\n",
    "    if letters.count(\"a\") == 2:\n",
    "        break"
   ]
  },
  {
   "cell_type": "code",
   "execution_count": 25,
   "id": "9ac5f392-4b25-4d39-964e-1c2015c5ab31",
   "metadata": {},
   "outputs": [
    {
     "data": {
      "text/plain": [
       "2"
      ]
     },
     "execution_count": 25,
     "metadata": {},
     "output_type": "execute_result"
    }
   ],
   "source": [
    "letters.count(\"n\")"
   ]
  },
  {
   "cell_type": "code",
   "execution_count": 20,
   "id": "c4b4f3aa-0381-4e6c-a698-9145a57ae2c5",
   "metadata": {},
   "outputs": [
    {
     "name": "stdout",
     "output_type": "stream",
     "text": [
      "orange\n",
      "strawberries\n"
     ]
    }
   ],
   "source": [
    "fruit_name = ['orange', 'strawberries']\n",
    "letter = \"r\"\n",
    "\n",
    "for f in fruit_name:\n",
    "    print(f)"
   ]
  },
  {
   "cell_type": "code",
   "execution_count": null,
   "id": "1064d15a-d196-4552-aaa3-120e940b04d3",
   "metadata": {},
   "outputs": [],
   "source": [
    "# challenge: how do you break the loop on the second appearance of n?"
   ]
  },
  {
   "cell_type": "code",
   "execution_count": 10,
   "id": "cfeded22-12d2-4352-a8cc-4e051819042c",
   "metadata": {},
   "outputs": [
    {
     "name": "stdout",
     "output_type": "stream",
     "text": [
      "b\n",
      "a\n",
      "n\n",
      "a\n",
      "n\n"
     ]
    }
   ],
   "source": [
    "# code to exit on the second appearance of the letter\n",
    "\n",
    "letters = []\n",
    "\n",
    "for letter in \"banana\":\n",
    "    print(letter)\n",
    "    letters.append(letter)\n",
    "    if letter == \"n\" and letters.count(letter) == 2:\n",
    "        break"
   ]
  },
  {
   "cell_type": "code",
   "execution_count": 7,
   "id": "0be3ddcf-b2f1-4f70-bef0-f4ec223659de",
   "metadata": {},
   "outputs": [
    {
     "name": "stdout",
     "output_type": "stream",
     "text": [
      "2\n",
      "12\n",
      "22\n",
      "32\n",
      "42\n",
      "52\n"
     ]
    }
   ],
   "source": [
    "# you can also loop over the range function\n",
    "\n",
    "for number in range(2, 60, 10):\n",
    "    print(number)"
   ]
  },
  {
   "cell_type": "code",
   "execution_count": 15,
   "id": "9312ce7e-7cc6-45d2-9422-67363bd6822e",
   "metadata": {},
   "outputs": [
    {
     "name": "stdout",
     "output_type": "stream",
     "text": [
      "0\n",
      "1\n",
      "2\n",
      "3\n",
      "4\n",
      "5\n"
     ]
    }
   ],
   "source": [
    "for n in range(6):\n",
    "    print(n)"
   ]
  },
  {
   "cell_type": "code",
   "execution_count": 7,
   "id": "529a2342-339f-449d-bc01-0a5645f2d1da",
   "metadata": {},
   "outputs": [
    {
     "name": "stdout",
     "output_type": "stream",
     "text": [
      "----\n",
      "tasty\n",
      "mangoes\n",
      "oranges\n",
      "----\n",
      "big\n",
      "mangoes\n",
      "oranges\n",
      "----\n",
      "fresh\n",
      "mangoes\n",
      "oranges\n"
     ]
    }
   ],
   "source": [
    "adj = [\"tasty\", \"big\", \"fresh\"]\n",
    "fruits = [\"mangoes\", \"oranges\"]\n",
    "\n",
    "for a in adj:\n",
    "    print(\"----\")\n",
    "    print(a)\n",
    "    for f in fruits:\n",
    "        print(f)"
   ]
  },
  {
   "cell_type": "code",
   "execution_count": 9,
   "id": "e63e3867-4af8-4f15-bd03-9cbbdd1ecb48",
   "metadata": {},
   "outputs": [
    {
     "name": "stdout",
     "output_type": "stream",
     "text": [
      "714.0\n",
      "798.0\n",
      "819.0\n"
     ]
    }
   ],
   "source": [
    "# loop through a list and print the results\n",
    "\n",
    "num_list = [68, 76, 78]\n",
    "\n",
    "for n in num_list:\n",
    "    print(n*10.5)"
   ]
  },
  {
   "cell_type": "code",
   "execution_count": 17,
   "id": "ca3cd4e2-2349-4fc7-a200-582730e4ec5a",
   "metadata": {},
   "outputs": [
    {
     "data": {
      "text/plain": [
       "[30, 40, 35, 40, 435, 490, 390]"
      ]
     },
     "execution_count": 17,
     "metadata": {},
     "output_type": "execute_result"
    }
   ],
   "source": [
    "# if you want to loop through the list and store this information as a variable\n",
    "\n",
    "num_list = [6, 8, 7, 8, 87, 98, 78]\n",
    "new_list = [5 * n for n in num_list]\n",
    "new_list"
   ]
  },
  {
   "cell_type": "code",
   "execution_count": null,
   "id": "d13f2685-1ddc-4634-ae13-82b330901e8b",
   "metadata": {},
   "outputs": [],
   "source": []
  }
 ],
 "metadata": {
  "kernelspec": {
   "display_name": "Python 3 (ipykernel)",
   "language": "python",
   "name": "python3"
  },
  "language_info": {
   "codemirror_mode": {
    "name": "ipython",
    "version": 3
   },
   "file_extension": ".py",
   "mimetype": "text/x-python",
   "name": "python",
   "nbconvert_exporter": "python",
   "pygments_lexer": "ipython3",
   "version": "3.12.3"
  }
 },
 "nbformat": 4,
 "nbformat_minor": 5
}
