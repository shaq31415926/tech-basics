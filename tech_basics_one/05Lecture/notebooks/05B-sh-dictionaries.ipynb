{
 "cells": [
  {
   "cell_type": "code",
   "execution_count": 2,
   "id": "a6533597-6339-4aad-86d0-e5165ff0d841",
   "metadata": {},
   "outputs": [],
   "source": [
    "thisdict = {\n",
    "\"brand\": \"Ford\",\n",
    "\"model\":\"Mustang\"\n",
    "}"
   ]
  },
  {
   "cell_type": "code",
   "execution_count": 3,
   "id": "e1afe82e-38a0-423a-aeb1-8afdcad7fae8",
   "metadata": {},
   "outputs": [
    {
     "data": {
      "text/plain": [
       "{'brand': 'Ford', 'model': 'Mustang'}"
      ]
     },
     "execution_count": 3,
     "metadata": {},
     "output_type": "execute_result"
    }
   ],
   "source": [
    "thisdict"
   ]
  },
  {
   "cell_type": "code",
   "execution_count": 4,
   "id": "624d3868-8954-4859-8d74-cc3ffe5d76d7",
   "metadata": {},
   "outputs": [
    {
     "data": {
      "text/plain": [
       "dict"
      ]
     },
     "execution_count": 4,
     "metadata": {},
     "output_type": "execute_result"
    }
   ],
   "source": [
    "type(thisdict)"
   ]
  },
  {
   "cell_type": "code",
   "execution_count": 5,
   "id": "c5957176-1bc4-47bd-a4d7-efcf57bf005f",
   "metadata": {},
   "outputs": [
    {
     "data": {
      "text/plain": [
       "dict_items([('brand', 'Ford'), ('model', 'Mustang')])"
      ]
     },
     "execution_count": 5,
     "metadata": {},
     "output_type": "execute_result"
    }
   ],
   "source": [
    "thisdict.items()"
   ]
  },
  {
   "cell_type": "code",
   "execution_count": 6,
   "id": "544b74fb-eb4a-4709-9e56-dd8a00711b9f",
   "metadata": {},
   "outputs": [
    {
     "data": {
      "text/plain": [
       "dict_keys(['brand', 'model'])"
      ]
     },
     "execution_count": 6,
     "metadata": {},
     "output_type": "execute_result"
    }
   ],
   "source": [
    "thisdict.keys()"
   ]
  },
  {
   "cell_type": "code",
   "execution_count": 7,
   "id": "50b0d3fc-eef2-425d-87bb-e5d1b871d6d5",
   "metadata": {},
   "outputs": [
    {
     "data": {
      "text/plain": [
       "dict_values(['Ford', 'Mustang'])"
      ]
     },
     "execution_count": 7,
     "metadata": {},
     "output_type": "execute_result"
    }
   ],
   "source": [
    "thisdict.values()"
   ]
  },
  {
   "cell_type": "code",
   "execution_count": 8,
   "id": "ed3d67ca-6e8c-4ae0-b8eb-175a3b9da7c8",
   "metadata": {},
   "outputs": [
    {
     "data": {
      "text/plain": [
       "'Ford'"
      ]
     },
     "execution_count": 8,
     "metadata": {},
     "output_type": "execute_result"
    }
   ],
   "source": [
    "thisdict[\"brand\"]"
   ]
  },
  {
   "cell_type": "code",
   "execution_count": 9,
   "id": "5b65fc8a-4ab1-4557-a636-1d9cf86559ea",
   "metadata": {},
   "outputs": [
    {
     "data": {
      "text/plain": [
       "'Ford'"
      ]
     },
     "execution_count": 9,
     "metadata": {},
     "output_type": "execute_result"
    }
   ],
   "source": [
    "thisdict.get(\"brand\")"
   ]
  },
  {
   "cell_type": "code",
   "execution_count": 11,
   "id": "579403dc-ca9b-4274-8d4c-a7e182b2b597",
   "metadata": {},
   "outputs": [
    {
     "data": {
      "text/plain": [
       "{'socks': 50, 'shoes': 60, 'football': 50}"
      ]
     },
     "execution_count": 11,
     "metadata": {},
     "output_type": "execute_result"
    }
   ],
   "source": [
    "# merge two lists into a dictionary\n",
    "\n",
    "items = [\"socks\", \"shoes\", \"football\"]\n",
    "price = [50, 60, 50]\n",
    "\n",
    "dict(zip(items, price))"
   ]
  },
  {
   "cell_type": "code",
   "execution_count": 16,
   "id": "886c28d8-d332-4b12-b2ab-179d049d3b94",
   "metadata": {},
   "outputs": [
    {
     "name": "stdout",
     "output_type": "stream",
     "text": [
      "The item is socks and the price is 50\n",
      "The item is shoes and the price is 60\n",
      "The item is football and the price is 50\n"
     ]
    }
   ],
   "source": [
    "# loop through two lists\n",
    "\n",
    "for i, v in zip(items, price):\n",
    "    print(f\"The item is {i} and the price is {v}\")"
   ]
  },
  {
   "cell_type": "code",
   "execution_count": null,
   "id": "abd439a1-61ff-4bfb-8b12-96cdc822e85a",
   "metadata": {},
   "outputs": [],
   "source": []
  }
 ],
 "metadata": {
  "kernelspec": {
   "display_name": "Python 3 (ipykernel)",
   "language": "python",
   "name": "python3"
  },
  "language_info": {
   "codemirror_mode": {
    "name": "ipython",
    "version": 3
   },
   "file_extension": ".py",
   "mimetype": "text/x-python",
   "name": "python",
   "nbconvert_exporter": "python",
   "pygments_lexer": "ipython3",
   "version": "3.12.3"
  }
 },
 "nbformat": 4,
 "nbformat_minor": 5
}
