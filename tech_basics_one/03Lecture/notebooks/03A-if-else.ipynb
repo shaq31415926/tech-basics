{
 "cells": [
  {
   "cell_type": "markdown",
   "id": "8f37a99e-948b-47dd-a697-e000bd97b7f3",
   "metadata": {},
   "source": [
    "## Recap: Variables"
   ]
  },
  {
   "cell_type": "code",
   "execution_count": 51,
   "id": "1ce19994-692f-4fb7-be6a-200776cdc153",
   "metadata": {},
   "outputs": [],
   "source": [
    "# calculate the area of a square\n",
    "length = 50.566\n",
    "area = length ** 2"
   ]
  },
  {
   "cell_type": "code",
   "execution_count": 52,
   "id": "99e4e314-3678-4b4a-b889-712ed3e6f94a",
   "metadata": {},
   "outputs": [
    {
     "data": {
      "text/plain": [
       "50.566"
      ]
     },
     "execution_count": 52,
     "metadata": {},
     "output_type": "execute_result"
    }
   ],
   "source": [
    "length"
   ]
  },
  {
   "cell_type": "code",
   "execution_count": 53,
   "id": "fec0dbea-d2dd-4ba1-b3fd-9f173d82365c",
   "metadata": {},
   "outputs": [
    {
     "name": "stdout",
     "output_type": "stream",
     "text": [
      "The area of the square is 2556.920356 cm2\n"
     ]
    }
   ],
   "source": [
    "print(\"The area of the square is\", area, \"cm2\")"
   ]
  },
  {
   "cell_type": "code",
   "execution_count": 59,
   "id": "72bf1cbb-4b7b-4d98-be95-a2150d90d5bc",
   "metadata": {},
   "outputs": [
    {
     "name": "stdout",
     "output_type": "stream",
     "text": [
      "The area of the square is 2556.920356\n"
     ]
    }
   ],
   "source": [
    "print(f\"The area of the square is {area}\")"
   ]
  },
  {
   "cell_type": "code",
   "execution_count": 60,
   "id": "5a894faf-4bf8-439b-8139-ba418fd9cb3b",
   "metadata": {},
   "outputs": [
    {
     "name": "stdout",
     "output_type": "stream",
     "text": [
      "The area of the square is 2556.92\n"
     ]
    }
   ],
   "source": [
    "# if you want to round the area to 2 d.p you can use the round function\n",
    "\n",
    "print(f\"The area of the square is {round(area, 2)}\")"
   ]
  },
  {
   "cell_type": "code",
   "execution_count": 18,
   "id": "da682966-d4a7-4f5c-a2ae-516a86cde63c",
   "metadata": {},
   "outputs": [],
   "source": [
    "# calculate the area of a rectangle\n",
    "shape = \"recentangle\"\n",
    "length = 67.6\n",
    "height = 78.67\n",
    "area = length * height"
   ]
  },
  {
   "cell_type": "code",
   "execution_count": 19,
   "id": "877a54fc-181f-4ba2-8d10-ffa68286da1e",
   "metadata": {},
   "outputs": [
    {
     "name": "stdout",
     "output_type": "stream",
     "text": [
      "The area of the recentangle is 5318.092\n"
     ]
    }
   ],
   "source": [
    "print(f\"The area of the {shape} is {area}\")"
   ]
  },
  {
   "cell_type": "code",
   "execution_count": 27,
   "id": "34dc34ee-4cfd-46fe-a4a4-91239b65e275",
   "metadata": {},
   "outputs": [
    {
     "name": "stdout",
     "output_type": "stream",
     "text": [
      "623\n"
     ]
    }
   ],
   "source": [
    "# avoid using generic variable names like a and b\n",
    "a = 7\n",
    "b = 89\n",
    "print(a*b)"
   ]
  },
  {
   "cell_type": "code",
   "execution_count": 48,
   "id": "cbb1aea7-504c-4bb7-abe9-c378a8d5c260",
   "metadata": {},
   "outputs": [],
   "source": [
    "# area of the circle\n",
    "\n",
    "import math\n",
    "\n",
    "radius = 2.7\n",
    "\n",
    "# you can get the value of pi from the maths library\n",
    "\n",
    "area = math.pi*radius**2"
   ]
  },
  {
   "cell_type": "code",
   "execution_count": 49,
   "id": "6ca6f8fe-c851-4bcf-a430-a666f746dc7e",
   "metadata": {},
   "outputs": [
    {
     "data": {
      "text/plain": [
       "22.902210444669596"
      ]
     },
     "execution_count": 49,
     "metadata": {},
     "output_type": "execute_result"
    }
   ],
   "source": [
    "area"
   ]
  },
  {
   "cell_type": "code",
   "execution_count": 50,
   "id": "c2af0a2c-acfb-4eb9-827e-1d8b699072f0",
   "metadata": {},
   "outputs": [
    {
     "name": "stdout",
     "output_type": "stream",
     "text": [
      "The area of the circle is 22.902 cm2\n"
     ]
    }
   ],
   "source": [
    "print(f\"The area of the circle is {round(area, 3)} cm2\")"
   ]
  },
  {
   "cell_type": "code",
   "execution_count": 61,
   "id": "35ab570f-c9db-458c-aaed-5ecd9ef0b5d4",
   "metadata": {},
   "outputs": [
    {
     "name": "stdout",
     "output_type": "stream",
     "text": [
      "something\n"
     ]
    }
   ],
   "source": [
    "if area > 20:\n",
    "    print(\"something\")"
   ]
  },
  {
   "cell_type": "code",
   "execution_count": 68,
   "id": "acfb5c48-2732-4290-bbd7-c1143cf08326",
   "metadata": {},
   "outputs": [
    {
     "name": "stdout",
     "output_type": "stream",
     "text": [
      "The area is 50.0\n"
     ]
    }
   ],
   "source": [
    "# demo on using an if-elif-else statement to calculate the area\n",
    "shape = \"triangle\"\n",
    "length = 10\n",
    "height = 10\n",
    "\n",
    "if shape == \"rectangle\":\n",
    "    area = length * height\n",
    "elif shape == \"square\":\n",
    "    area = length ** 2\n",
    "elif shape == \"triangle\":\n",
    "    area = 0.5*length*height\n",
    "else:\n",
    "    area = None\n",
    "\n",
    "print(\"The area is\",area)"
   ]
  },
  {
   "cell_type": "code",
   "execution_count": 70,
   "id": "57f3b846-643a-4726-b84c-036d3ee4d803",
   "metadata": {},
   "outputs": [
    {
     "name": "stdout",
     "output_type": "stream",
     "text": [
      "YOU PASSED\n"
     ]
    }
   ],
   "source": [
    "# the activities\n",
    "\n",
    "score = 100\n",
    "pass_threshold = 50\n",
    "\n",
    "if score > pass_threshold:\n",
    "    print(\"YOU PASSED\")\n"
   ]
  },
  {
   "cell_type": "code",
   "execution_count": 72,
   "id": "ba7b0776-b8b4-4b23-914c-12bae59fa5db",
   "metadata": {},
   "outputs": [
    {
     "name": "stdout",
     "output_type": "stream",
     "text": [
      "YOU FAILED\n"
     ]
    }
   ],
   "source": [
    "score = 50\n",
    "pass_threshold = 50\n",
    "\n",
    "if score > pass_threshold:\n",
    "    print(\"YOU PASSED\")\n",
    "else:\n",
    "    print(\"YOU FAILED\")"
   ]
  },
  {
   "cell_type": "code",
   "execution_count": 83,
   "id": "119e46b9-ef6c-4dd9-a500-e037bf7a148d",
   "metadata": {},
   "outputs": [
    {
     "name": "stdout",
     "output_type": "stream",
     "text": [
      "YOU PASSED\n"
     ]
    }
   ],
   "source": [
    "score = 400\n",
    "pass_threshold = 40\n",
    "\n",
    "if score > pass_threshold:\n",
    "    print(\"YOU PASSED\")\n",
    "elif score == pass_threshold:\n",
    "    print(\"YOU ARE ON THE BORDER!\")\n",
    "else:\n",
    "    print(\"YOU FAILED\")"
   ]
  },
  {
   "cell_type": "code",
   "execution_count": 85,
   "id": "adf19364-1cbd-4653-b93f-85089ae65a44",
   "metadata": {},
   "outputs": [
    {
     "name": "stdout",
     "output_type": "stream",
     "text": [
      "4.0\n"
     ]
    }
   ],
   "source": [
    "num1 = 20\n",
    "num2 = 5\n",
    "operator = \"division\"\n",
    "\n",
    "if operator == \"division\" and num2 > 0:\n",
    "    print(num1/num2)\n",
    "else:\n",
    "    print(\"Error\")"
   ]
  },
  {
   "cell_type": "code",
   "execution_count": 91,
   "id": "e90ed72f-455e-457b-8e09-3d3137a19a5c",
   "metadata": {},
   "outputs": [
    {
     "ename": "ZeroDivisionError",
     "evalue": "division by zero",
     "output_type": "error",
     "traceback": [
      "\u001b[0;31m---------------------------------------------------------------------------\u001b[0m",
      "\u001b[0;31mZeroDivisionError\u001b[0m                         Traceback (most recent call last)",
      "Cell \u001b[0;32mIn[91], line 6\u001b[0m\n\u001b[1;32m      3\u001b[0m operator \u001b[38;5;241m=\u001b[39m \u001b[38;5;124m\"\u001b[39m\u001b[38;5;124mdivision\u001b[39m\u001b[38;5;124m\"\u001b[39m\n\u001b[1;32m      5\u001b[0m \u001b[38;5;28;01mif\u001b[39;00m operator \u001b[38;5;241m==\u001b[39m \u001b[38;5;124m\"\u001b[39m\u001b[38;5;124mdivision\u001b[39m\u001b[38;5;124m\"\u001b[39m \u001b[38;5;129;01mor\u001b[39;00m num2 \u001b[38;5;241m>\u001b[39m \u001b[38;5;241m0\u001b[39m:\n\u001b[0;32m----> 6\u001b[0m     \u001b[38;5;28mprint\u001b[39m(\u001b[43mnum1\u001b[49m\u001b[38;5;241;43m/\u001b[39;49m\u001b[43mnum2\u001b[49m)\n\u001b[1;32m      7\u001b[0m \u001b[38;5;28;01melse\u001b[39;00m:\n\u001b[1;32m      8\u001b[0m     \u001b[38;5;28mprint\u001b[39m(\u001b[38;5;124m\"\u001b[39m\u001b[38;5;124mError\u001b[39m\u001b[38;5;124m\"\u001b[39m)\n",
      "\u001b[0;31mZeroDivisionError\u001b[0m: division by zero"
     ]
    }
   ],
   "source": [
    "# the difference between and and or\n",
    "\n",
    "num1 = 20\n",
    "num2 = 0\n",
    "operator = \"division\"\n",
    "\n",
    "if operator == \"division\" or num2 > 0:\n",
    "    print(num1/num2)\n",
    "else:\n",
    "    print(\"Error\")"
   ]
  },
  {
   "cell_type": "code",
   "execution_count": 92,
   "id": "8a8b6ce6-07c6-435d-8e8c-511f6754c7d0",
   "metadata": {},
   "outputs": [
    {
     "name": "stdout",
     "output_type": "stream",
     "text": [
      "2.0\n"
     ]
    }
   ],
   "source": [
    "# the difference between and and or\n",
    "\n",
    "num1 = 20\n",
    "num2 = 10\n",
    "operator = \"multiply\"\n",
    "\n",
    "if operator == \"division\" or num2 > 0:\n",
    "    print(num1/num2)\n",
    "else:\n",
    "    print(\"Error\")"
   ]
  },
  {
   "cell_type": "code",
   "execution_count": 94,
   "id": "38a21fae-1a31-47ed-957b-6abcb52d3708",
   "metadata": {},
   "outputs": [],
   "source": [
    "# pass statement, skips over\n",
    "\n",
    "num2 = 0\n",
    "\n",
    "if num2 == 0:\n",
    "    pass\n",
    "else:\n",
    "    print(\"SOMETHING\")"
   ]
  },
  {
   "cell_type": "code",
   "execution_count": 109,
   "id": "d27e8bd6-fa50-44c3-a838-d6af30228cac",
   "metadata": {},
   "outputs": [
    {
     "name": "stdout",
     "output_type": "stream",
     "text": [
      "The number is greater than 20\n"
     ]
    }
   ],
   "source": [
    "# nested if statements\n",
    "\n",
    "num = 25\n",
    "\n",
    "if num > 10:\n",
    "    if num > 20:\n",
    "        print(\"The number is greater than 20\")\n",
    "    else:\n",
    "        print(\"The number is greater than 10\")\n",
    "        print(\"The number is not greater than 20\")\n",
    "else:\n",
    "    print(\"The number is 10 or less\")\n"
   ]
  },
  {
   "cell_type": "markdown",
   "id": "7e79c20e-bbdd-46d9-a78b-13327d29e789",
   "metadata": {},
   "source": [
    "The rules of rock paper scissor lizard spock\n",
    "- Scissors cuts paper.\n",
    "- Paper covers rock.\n",
    "- Rock crushes lizard.\n",
    "- Lizard poisons Spock.\n",
    "- Spock smashes scissors.\n",
    "- Scissors decapitates lizard.\n",
    "- Lizard eats paper.\n",
    "- Paper disproves Spock.\n",
    "- Spock vaporizes rock.\n",
    "- Rock crushes scissors."
   ]
  },
  {
   "cell_type": "code",
   "execution_count": 137,
   "id": "0e5271db-f267-4053-8d3f-d47389684ea8",
   "metadata": {},
   "outputs": [
    {
     "name": "stdout",
     "output_type": "stream",
     "text": [
      "The players drawer\n"
     ]
    }
   ],
   "source": [
    "# rock paper scissor lizard spock game\n",
    "\n",
    "player_1_selection = \"Spock\"\n",
    "player_2_selection = \"spock\"\n",
    "\n",
    "\n",
    "if player_1_selection.lower() == player_2_selection.lower():\n",
    "    print(\"The players drawer\")\n",
    "elif player_1_selection == \"rock\":\n",
    "    if player_2_selection == \"paper\":\n",
    "        print(\"Player 2 wins\")\n",
    "    elif player_2_selection == \"scissors\":\n",
    "        print(\"Player 1 wins\")\n",
    "    elif player_2_selection == \"lizard\":\n",
    "        print(\"Player 1 wins\")\n",
    "    elif player_2_selection == \"spock\":\n",
    "        print(\"Player 2 wins\")\n",
    "elif player_1_selection == \"paper\":\n",
    "    if player_2_selection == \"scissors\":\n",
    "        print(\"Player 2 wins\")\n",
    "    elif player_2_selection == \"rock\":\n",
    "        print(\"Player 1 wins\")\n",
    "    elif player_2_selection == \"lizard\":\n",
    "        print(\"Player 2 wins\")\n",
    "    elif player_2_selection == \"spock\":\n",
    "        print(\"Player 1 wins\")\n",
    "elif player_1_selection == \"scissors\":\n",
    "    if player_2_selection == \"rock\":\n",
    "        print(\"Player 2 wins\")\n",
    "    elif player_2_selection == \"paper\":\n",
    "        print(\"Player 1 wins\")\n",
    "    elif player_2_selection == \"lizard\":\n",
    "        print(\"Player 1 wins\")\n",
    "    elif player_2_selection == \"spock\":\n",
    "        print(\"Player 2 wins\")\n",
    "elif player_1_selection == \"lizard\":\n",
    "    if player_2_selection == \"rock\":\n",
    "        print(\"Player 2 wins\")\n",
    "    elif player_2_selection == \"paper\":\n",
    "        print(\"Player 1 wins\")\n",
    "    elif player_2_selection == \"scissors\":\n",
    "        print(\"Player 2 wins\")\n",
    "    elif player_2_selection == \"spock\":\n",
    "        print(\"Player 1 wins\")\n",
    "elif player_1_selection == \"spock\":\n",
    "    if player_2_selection == \"rock\":\n",
    "        print(\"Player 2 wins\")\n",
    "    elif player_2_selection == \"paper\":\n",
    "        print(\"Player 1 wins\")\n",
    "    elif player_2_selection == \"scissors\":\n",
    "        print(\"Player 1 wins\")\n",
    "    elif player_2_selection == \"lizard\":\n",
    "        print(\"Player 2 wins\")\n",
    "else:\n",
    "    print(\"This option does not exist\")\n",
    "        "
   ]
  },
  {
   "cell_type": "code",
   "execution_count": 142,
   "id": "ea9954ae-2c1c-4ab1-8838-68536ce9390d",
   "metadata": {},
   "outputs": [],
   "source": [
    "# if you want to select something at random you can use the choice function from the random library\n",
    "\n",
    "options = ['rock', 'paper', 'scissors', 'lizard', 'spock']"
   ]
  },
  {
   "cell_type": "code",
   "execution_count": 154,
   "id": "2a84406a-05c2-4fa5-8dbd-841351aa41a3",
   "metadata": {},
   "outputs": [
    {
     "data": {
      "text/plain": [
       "list"
      ]
     },
     "execution_count": 154,
     "metadata": {},
     "output_type": "execute_result"
    }
   ],
   "source": [
    "type(options)"
   ]
  },
  {
   "cell_type": "code",
   "execution_count": 143,
   "id": "5cf594b7-63a3-4458-b6ae-a9f3f1c6e68d",
   "metadata": {},
   "outputs": [
    {
     "data": {
      "text/plain": [
       "'lizard'"
      ]
     },
     "execution_count": 143,
     "metadata": {},
     "output_type": "execute_result"
    }
   ],
   "source": [
    "import random\n",
    "\n",
    "random.choice(options)"
   ]
  },
  {
   "cell_type": "code",
   "execution_count": 153,
   "id": "05af2b3c-b204-44b6-9299-bd223c108406",
   "metadata": {},
   "outputs": [
    {
     "name": "stdout",
     "output_type": "stream",
     "text": [
      "1, 2, 3..\n"
     ]
    },
    {
     "name": "stdin",
     "output_type": "stream",
     "text": [
      "Please select rock, paper, scissors, spock, lizard?: ROCK\n"
     ]
    },
    {
     "name": "stdout",
     "output_type": "stream",
     "text": [
      "You selected ROCK\n",
      "The computer selects lizard\n",
      "This option does not exist\n"
     ]
    }
   ],
   "source": [
    "# rock paper scissor lizard spock game\n",
    "import time\n",
    "\n",
    "print(\"1, 2, 3..\")\n",
    "player_1_selection = input(\"Please select rock, paper, scissors, spock, lizard?:\")\n",
    "player_2_selection = random.choice(options)\n",
    "\n",
    "print(\"You selected\", player_1_selection)\n",
    "print(\"The computer selects\", player_2_selection)\n",
    "\n",
    "time.sleep(1)\n",
    "\n",
    "\n",
    "if player_1_selection.lower() == player_2_selection.lower():\n",
    "    print(\"The players drawer\")\n",
    "elif player_1_selection == \"rock\":\n",
    "    if player_2_selection == \"paper\":\n",
    "        print(\"Player 2 wins\")\n",
    "    elif player_2_selection == \"scissors\":\n",
    "        print(\"Player 1 wins\")\n",
    "    elif player_2_selection == \"lizard\":\n",
    "        print(\"Player 1 wins\")\n",
    "    elif player_2_selection == \"spock\":\n",
    "        print(\"Player 2 wins\")\n",
    "elif player_1_selection == \"paper\":\n",
    "    if player_2_selection == \"scissors\":\n",
    "        print(\"Player 2 wins\")\n",
    "    elif player_2_selection == \"rock\":\n",
    "        print(\"Player 1 wins\")\n",
    "    elif player_2_selection == \"lizard\":\n",
    "        print(\"Player 2 wins\")\n",
    "    elif player_2_selection == \"spock\":\n",
    "        print(\"Player 1 wins\")\n",
    "elif player_1_selection == \"scissors\":\n",
    "    if player_2_selection == \"rock\":\n",
    "        print(\"Player 2 wins\")\n",
    "    elif player_2_selection == \"paper\":\n",
    "        print(\"Player 1 wins\")\n",
    "    elif player_2_selection == \"lizard\":\n",
    "        print(\"Player 1 wins\")\n",
    "    elif player_2_selection == \"spock\":\n",
    "        print(\"Player 2 wins\")\n",
    "elif player_1_selection == \"lizard\":\n",
    "    if player_2_selection == \"rock\":\n",
    "        print(\"Player 2 wins\")\n",
    "    elif player_2_selection == \"paper\":\n",
    "        print(\"Player 1 wins\")\n",
    "    elif player_2_selection == \"scissors\":\n",
    "        print(\"Player 2 wins\")\n",
    "    elif player_2_selection == \"spock\":\n",
    "        print(\"Player 1 wins\")\n",
    "elif player_1_selection == \"spock\":\n",
    "    if player_2_selection == \"rock\":\n",
    "        print(\"Player 2 wins\")\n",
    "    elif player_2_selection == \"paper\":\n",
    "        print(\"Player 1 wins\")\n",
    "    elif player_2_selection == \"scissors\":\n",
    "        print(\"Player 1 wins\")\n",
    "    elif player_2_selection == \"lizard\":\n",
    "        print(\"Player 2 wins\")\n",
    "else:\n",
    "    print(\"This option does not exist\")\n",
    "        "
   ]
  },
  {
   "cell_type": "code",
   "execution_count": null,
   "id": "7fed5100-8220-461c-9505-e2d0c93e9036",
   "metadata": {},
   "outputs": [],
   "source": []
  },
  {
   "cell_type": "code",
   "execution_count": null,
   "id": "66200399-049d-4313-bd0f-bbada2d6d2d6",
   "metadata": {},
   "outputs": [],
   "source": []
  }
 ],
 "metadata": {
  "kernelspec": {
   "display_name": "Python 3 (ipykernel)",
   "language": "python",
   "name": "python3"
  },
  "language_info": {
   "codemirror_mode": {
    "name": "ipython",
    "version": 3
   },
   "file_extension": ".py",
   "mimetype": "text/x-python",
   "name": "python",
   "nbconvert_exporter": "python",
   "pygments_lexer": "ipython3",
   "version": "3.12.3"
  }
 },
 "nbformat": 4,
 "nbformat_minor": 5
}
