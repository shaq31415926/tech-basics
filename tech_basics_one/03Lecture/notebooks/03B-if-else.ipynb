{
 "cells": [
  {
   "cell_type": "code",
   "execution_count": 17,
   "id": "81f41866-5582-4301-a8b9-75bf0e9dad63",
   "metadata": {},
   "outputs": [],
   "source": [
    "length = 587474\n",
    "area = length ** 2"
   ]
  },
  {
   "cell_type": "code",
   "execution_count": 18,
   "id": "43777405-172e-492e-8653-e6992686ad76",
   "metadata": {},
   "outputs": [
    {
     "name": "stdout",
     "output_type": "stream",
     "text": [
      "The area of square is 345125700676 cm2\n"
     ]
    }
   ],
   "source": [
    "print(\"The area of square is\", area, \"cm2\")"
   ]
  },
  {
   "cell_type": "code",
   "execution_count": 19,
   "id": "36781c46-86ae-4f1f-86ab-72859686004f",
   "metadata": {},
   "outputs": [
    {
     "name": "stdout",
     "output_type": "stream",
     "text": [
      "The area of square 345125700676 cm2\n"
     ]
    }
   ],
   "source": [
    "print(f\"The area of square {area} cm2\")"
   ]
  },
  {
   "cell_type": "code",
   "execution_count": 20,
   "id": "1da9a12d-3f82-445c-bbdf-7bfb2bcd6d45",
   "metadata": {},
   "outputs": [],
   "source": [
    "length = 6\n",
    "height = 6\n",
    "area = length * height"
   ]
  },
  {
   "cell_type": "code",
   "execution_count": 21,
   "id": "ac3cd6c9-0343-47a0-a9be-0b56cbebef2b",
   "metadata": {},
   "outputs": [
    {
     "name": "stdout",
     "output_type": "stream",
     "text": [
      "The area of the recentage is 36\n"
     ]
    }
   ],
   "source": [
    "print(\"The area of the recentage is\", area, \"cm2\")"
   ]
  },
  {
   "cell_type": "code",
   "execution_count": 26,
   "id": "fd26ce61-562f-4987-831c-661007b2e8e3",
   "metadata": {},
   "outputs": [
    {
     "name": "stdout",
     "output_type": "stream",
     "text": [
      "The area of the circle is 28.2743339 cm2\n"
     ]
    }
   ],
   "source": [
    "import math\n",
    "\n",
    "radius = 3\n",
    "area = math.pi*radius**2\n",
    "\n",
    "print(f\"The area of the circle is {round(area, 7)} cm2\")"
   ]
  },
  {
   "cell_type": "code",
   "execution_count": 27,
   "id": "eda798fb-9b60-44f4-8b7b-e13eca1580f5",
   "metadata": {},
   "outputs": [
    {
     "data": {
      "text/plain": [
       "28.27"
      ]
     },
     "execution_count": 27,
     "metadata": {},
     "output_type": "execute_result"
    }
   ],
   "source": [
    "# the round function will round the value to a certain number of decimal points\n",
    "\n",
    "round(area, 2)"
   ]
  },
  {
   "cell_type": "code",
   "execution_count": 29,
   "id": "97fd4a0d-b44d-4133-9791-201781bfcc38",
   "metadata": {},
   "outputs": [
    {
     "name": "stdout",
     "output_type": "stream",
     "text": [
      "area greater than 20\n"
     ]
    }
   ],
   "source": [
    "# live demo\n",
    "\n",
    "if area > 20:\n",
    "    print(\"area greater than 20\")"
   ]
  },
  {
   "cell_type": "code",
   "execution_count": 30,
   "id": "656da715-9d7f-4696-91be-1d92b01aa33e",
   "metadata": {},
   "outputs": [
    {
     "name": "stdout",
     "output_type": "stream",
     "text": [
      "you passed :)\n"
     ]
    }
   ],
   "source": [
    "score = 100\n",
    "pass_threshold = 50\n",
    "\n",
    "if score > pass_threshold:\n",
    "    print(\"you passed :)\")"
   ]
  },
  {
   "cell_type": "code",
   "execution_count": 31,
   "id": "6e2eb3f9-a622-427d-bf6a-2e9790d8fa0b",
   "metadata": {},
   "outputs": [
    {
     "name": "stdout",
     "output_type": "stream",
     "text": [
      "you passed :)\n"
     ]
    }
   ],
   "source": [
    "score = 100\n",
    "pass_threshold = 50\n",
    "\n",
    "if score > pass_threshold:\n",
    "    print(\"you passed :)\")\n",
    "else:\n",
    "    print(\"you failed :(\")"
   ]
  },
  {
   "cell_type": "code",
   "execution_count": 34,
   "id": "7e9ad860-afe8-4f16-a9a4-d1de50838283",
   "metadata": {},
   "outputs": [
    {
     "name": "stdout",
     "output_type": "stream",
     "text": [
      "you failed :(\n"
     ]
    }
   ],
   "source": [
    "score = 30\n",
    "pass_threshold = 40\n",
    "\n",
    "if score > pass_threshold:\n",
    "    print(\"you passed :)\")\n",
    "elif score == pass_threshold:\n",
    "    print(\"you are on the border\")\n",
    "else:\n",
    "    print(\"you failed :(\")"
   ]
  },
  {
   "cell_type": "code",
   "execution_count": 37,
   "id": "578997c4-7602-4d3c-bfe2-985f7a295d50",
   "metadata": {},
   "outputs": [
    {
     "name": "stdout",
     "output_type": "stream",
     "text": [
      "I dont know what you want me to do\n"
     ]
    }
   ],
   "source": [
    "operator = \"division\"\n",
    "num1 = 10\n",
    "num2 = 0\n",
    "\n",
    "if operator == \"division\" and num2 > 0:\n",
    "    print(num1/num2)\n",
    "else:\n",
    "    print(\"I dont know what you want me to do\")"
   ]
  },
  {
   "cell_type": "code",
   "execution_count": 40,
   "id": "1df57e23-aa8c-43b6-afe0-857b0d7c266a",
   "metadata": {},
   "outputs": [
    {
     "ename": "ZeroDivisionError",
     "evalue": "division by zero",
     "output_type": "error",
     "traceback": [
      "\u001b[0;31m---------------------------------------------------------------------------\u001b[0m",
      "\u001b[0;31mZeroDivisionError\u001b[0m                         Traceback (most recent call last)",
      "Cell \u001b[0;32mIn[40], line 6\u001b[0m\n\u001b[1;32m      3\u001b[0m num2 \u001b[38;5;241m=\u001b[39m \u001b[38;5;241m0\u001b[39m\n\u001b[1;32m      5\u001b[0m \u001b[38;5;28;01mif\u001b[39;00m operator \u001b[38;5;241m==\u001b[39m \u001b[38;5;124m\"\u001b[39m\u001b[38;5;124mdivision\u001b[39m\u001b[38;5;124m\"\u001b[39m \u001b[38;5;129;01mor\u001b[39;00m num2 \u001b[38;5;241m>\u001b[39m \u001b[38;5;241m0\u001b[39m:\n\u001b[0;32m----> 6\u001b[0m     \u001b[38;5;28mprint\u001b[39m(\u001b[43mnum1\u001b[49m\u001b[38;5;241;43m/\u001b[39;49m\u001b[43mnum2\u001b[49m)\n\u001b[1;32m      7\u001b[0m \u001b[38;5;28;01melse\u001b[39;00m:\n\u001b[1;32m      8\u001b[0m     \u001b[38;5;28mprint\u001b[39m(\u001b[38;5;124m\"\u001b[39m\u001b[38;5;124mI dont know what you want me to do\u001b[39m\u001b[38;5;124m\"\u001b[39m)\n",
      "\u001b[0;31mZeroDivisionError\u001b[0m: division by zero"
     ]
    }
   ],
   "source": [
    "operator = \"division\"\n",
    "num1 = 10\n",
    "num2 = 0\n",
    "\n",
    "if operator == \"division\" or num2 > 0:\n",
    "    print(num1/num2)\n",
    "else:\n",
    "    print(\"I dont know what you want me to do\")"
   ]
  },
  {
   "cell_type": "code",
   "execution_count": 43,
   "id": "673b37ab-2d8f-4190-8ef9-c7aea5a3f941",
   "metadata": {},
   "outputs": [
    {
     "name": "stdout",
     "output_type": "stream",
     "text": [
      "I dont know what you want me to do\n"
     ]
    }
   ],
   "source": [
    "operator = \"multiplication\"\n",
    "num1 = 10\n",
    "num2 = 0\n",
    "\n",
    "if operator == \"division\" or num2 > 0:\n",
    "    print(num1/num2)\n",
    "else:\n",
    "    print(\"I dont know what you want me to do\")"
   ]
  },
  {
   "cell_type": "code",
   "execution_count": 45,
   "id": "aba37088-e38e-4e6c-97e6-2f8439881c8c",
   "metadata": {},
   "outputs": [
    {
     "name": "stdout",
     "output_type": "stream",
     "text": [
      "The number is not equal to zero\n"
     ]
    }
   ],
   "source": [
    "num2 = 10\n",
    "\n",
    "if num2 == 0:\n",
    "    pass\n",
    "else:\n",
    "    print(\"The number is not equal to zero\")"
   ]
  },
  {
   "cell_type": "code",
   "execution_count": 54,
   "id": "7486adeb-caa2-4cfd-a032-3709a81c398e",
   "metadata": {},
   "outputs": [
    {
     "name": "stdout",
     "output_type": "stream",
     "text": [
      "number is greater than 10\n",
      "number is greater than or equal to 20\n"
     ]
    }
   ],
   "source": [
    "# nested if statements\n",
    "\n",
    "num = 20\n",
    "\n",
    "if num > 10:\n",
    "    print(\"number is greater than 10\")\n",
    "    if num >= 20:\n",
    "        print(\"number is greater than or equal to 20\")\n",
    "    else:\n",
    "        print(\"number is not greater than 20\")\n",
    "    # include nested if statement here\n",
    "else:\n",
    "    print(\"the number is 10 or less\")"
   ]
  },
  {
   "cell_type": "code",
   "execution_count": 90,
   "id": "40348038-8fa7-4377-b568-4620a11a85a2",
   "metadata": {},
   "outputs": [
    {
     "name": "stdout",
     "output_type": "stream",
     "text": [
      "Player two wins - Scissors CUTS paper\n"
     ]
    }
   ],
   "source": [
    "player_one_selection = \"paper\"\n",
    "player_two_selection = \"scissors\"\n",
    "\n",
    "if player_one_selection == player_two_selection:\n",
    "    print(\"The players draw!\")\n",
    "elif player_one_selection == \"rock\":\n",
    "    if player_two_selection == \"paper\":\n",
    "        print(\"Player two wins - Paper covers rock\")\n",
    "    else:\n",
    "        print(\"Player one wins\")\n",
    "elif player_one_selection == \"paper\":\n",
    "    if player_two_selection == \"scissors\":\n",
    "        print(\"Player two wins - Scissors CUTS paper\")\n",
    "    else:\n",
    "        print(\"Player one wins\")\n",
    "elif player_one_selection == \"scissors\":\n",
    "    if player_two_selection == \"rock\":\n",
    "        print(\"Player two wins - Rock smashes scissors\")\n",
    "    else:\n",
    "        print(\"Player one wins\")\n",
    "else:\n",
    "    print(\"Error\")\n",
    "\n"
   ]
  },
  {
   "cell_type": "markdown",
   "id": "2002743a-254b-4538-98b1-fb87b5577f0d",
   "metadata": {},
   "source": [
    "The rules of Rock-paper-scissors-lizard-Spock are:\n",
    "- Scissors cut paper\n",
    "- Paper covers rock\n",
    "- Rock crushes lizard\n",
    "- Lizard poisons Spock\n",
    "- Spock smashes (or melts) scissors\n",
    "- Scissors decapitate lizard\n",
    "- Lizard eats paper\n",
    "- Paper disproves Spock\n",
    "- Spock vaporizes rock\n",
    "- Rock breaks scissors"
   ]
  },
  {
   "cell_type": "code",
   "execution_count": 94,
   "id": "a7a39d26-39e3-4155-aa04-f50acae25cd8",
   "metadata": {},
   "outputs": [
    {
     "name": "stdout",
     "output_type": "stream",
     "text": [
      "Player one wins\n"
     ]
    }
   ],
   "source": [
    "player_one_selection = \"lizard\"\n",
    "player_two_selection = \"paper\"\n",
    "\n",
    "if player_one_selection == player_two_selection:\n",
    "    print(\"The players draw!\")\n",
    "elif player_one_selection == \"rock\":\n",
    "    if player_two_selection == \"paper\" or player_two_selection == \"spock\":\n",
    "        print(\"Player two wins\")\n",
    "    else:\n",
    "        print(\"Player one wins\")\n",
    "elif player_one_selection == \"paper\":\n",
    "    if player_two_selection == \"scissors\" or player_two_selection == \"lizard\":\n",
    "        print(\"Player two wins\")\n",
    "    else:\n",
    "        print(\"Player one wins\")\n",
    "elif player_one_selection == \"scissors\":\n",
    "    if player_two_selection == \"rock\" or player_two_selection == \"spock\":\n",
    "        print(\"Player two wins\")\n",
    "    else:\n",
    "        print(\"Player one wins\")\n",
    "elif player_one_selection == \"lizard\":\n",
    "    if player_two_selection == \"scissors\" or player_two_selection == \"rock\":\n",
    "        print(\"Player two wins\")\n",
    "    else:\n",
    "        print(\"Player one wins\")\n",
    "elif player_one_selection == \"spock\":\n",
    "    if player_two_selection == \"paper\" or player_two_selection == \"lizard\":\n",
    "        print(\"Player two wins\")\n",
    "    else:\n",
    "        print(\"Player one wins\")\n"
   ]
  },
  {
   "cell_type": "code",
   "execution_count": 107,
   "id": "b9e55885-66d3-4383-a4a6-bdf7805931b0",
   "metadata": {},
   "outputs": [
    {
     "data": {
      "text/plain": [
       "'lizard'"
      ]
     },
     "execution_count": 107,
     "metadata": {},
     "output_type": "execute_result"
    }
   ],
   "source": [
    "import random\n",
    "\n",
    "options = ['rock', 'paper', 'scissors', 'lizard', 'spock']\n",
    "random.choice(options)"
   ]
  },
  {
   "cell_type": "code",
   "execution_count": 109,
   "id": "f2b7020b-a7e6-43c1-974b-2f1912366127",
   "metadata": {},
   "outputs": [
    {
     "name": "stdin",
     "output_type": "stream",
     "text": [
      "What is your choice?: rock\n"
     ]
    },
    {
     "name": "stdout",
     "output_type": "stream",
     "text": [
      "You selected rock\n",
      "The computer selected paper\n",
      "Player two wins\n"
     ]
    }
   ],
   "source": [
    "player_one_selection = input(\"What is your choice?:\")\n",
    "player_two_selection = random.choice(options)\n",
    "\n",
    "print(\"You selected\", player_one_selection)\n",
    "print(\"The computer selected\", player_two_selection)\n",
    "\n",
    "if player_one_selection == player_two_selection:\n",
    "    print(\"The players draw!\")\n",
    "elif player_one_selection == \"rock\":\n",
    "    if player_two_selection == \"paper\" or player_two_selection == \"spock\":\n",
    "        print(\"Player two wins\")\n",
    "    else:\n",
    "        print(\"Player one wins\")\n",
    "elif player_one_selection == \"paper\":\n",
    "    if player_two_selection == \"scissors\" or player_two_selection == \"lizard\":\n",
    "        print(\"Player two wins\")\n",
    "    else:\n",
    "        print(\"Player one wins\")\n",
    "elif player_one_selection == \"scissors\":\n",
    "    if player_two_selection == \"rock\" or player_two_selection == \"spock\":\n",
    "        print(\"Player two wins\")\n",
    "    else:\n",
    "        print(\"Player one wins\")\n",
    "elif player_one_selection == \"lizard\":\n",
    "    if player_two_selection == \"scissors\" or player_two_selection == \"rock\":\n",
    "        print(\"Player two wins\")\n",
    "    else:\n",
    "        print(\"Player one wins\")\n",
    "elif player_one_selection == \"spock\":\n",
    "    if player_two_selection == \"paper\" or player_two_selection == \"lizard\":\n",
    "        print(\"Player two wins\")\n",
    "    else:\n",
    "        print(\"Player one wins\")\n"
   ]
  },
  {
   "cell_type": "code",
   "execution_count": null,
   "id": "19f0c466-0612-4b8f-b232-06cda69b7446",
   "metadata": {},
   "outputs": [],
   "source": []
  }
 ],
 "metadata": {
  "kernelspec": {
   "display_name": "Python 3 (ipykernel)",
   "language": "python",
   "name": "python3"
  },
  "language_info": {
   "codemirror_mode": {
    "name": "ipython",
    "version": 3
   },
   "file_extension": ".py",
   "mimetype": "text/x-python",
   "name": "python",
   "nbconvert_exporter": "python",
   "pygments_lexer": "ipython3",
   "version": "3.12.3"
  }
 },
 "nbformat": 4,
 "nbformat_minor": 5
}
