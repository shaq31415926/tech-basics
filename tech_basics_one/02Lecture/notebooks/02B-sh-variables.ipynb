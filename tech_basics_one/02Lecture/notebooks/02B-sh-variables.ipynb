{
 "cells": [
  {
   "cell_type": "markdown",
   "id": "e7c78214-a663-4763-a7ec-aded968466ba",
   "metadata": {},
   "source": [
    "# Variables"
   ]
  },
  {
   "cell_type": "code",
   "execution_count": 5,
   "id": "7f09b059-b111-4e1f-8d6c-f3a71fe3fa13",
   "metadata": {},
   "outputs": [],
   "source": [
    "# creating my first variable\n",
    "\n",
    "first_variable = 5.7"
   ]
  },
  {
   "cell_type": "code",
   "execution_count": 8,
   "id": "0aa96568-2d48-4b98-839e-bc77c182340c",
   "metadata": {},
   "outputs": [
    {
     "name": "stdout",
     "output_type": "stream",
     "text": [
      "5.7\n"
     ]
    }
   ],
   "source": [
    "# printing my first variable\n",
    "\n",
    "print(first_variable)"
   ]
  },
  {
   "cell_type": "code",
   "execution_count": 7,
   "id": "07d0be4e-3e0b-4d96-bfbd-b0fce0402003",
   "metadata": {},
   "outputs": [
    {
     "data": {
      "text/plain": [
       "float"
      ]
     },
     "execution_count": 7,
     "metadata": {},
     "output_type": "execute_result"
    }
   ],
   "source": [
    "# checking the type of my first variable\n",
    "\n",
    "type(first_variable)"
   ]
  },
  {
   "cell_type": "code",
   "execution_count": 9,
   "id": "a453e1ef-62a8-4688-8784-0c074b33d47f",
   "metadata": {},
   "outputs": [],
   "source": [
    "# overwriting my first variable\n",
    "\n",
    "first_variable = \"John\""
   ]
  },
  {
   "cell_type": "code",
   "execution_count": 10,
   "id": "ee957501-11d7-4755-9161-e13b1d89bbab",
   "metadata": {},
   "outputs": [
    {
     "data": {
      "text/plain": [
       "'John'"
      ]
     },
     "execution_count": 10,
     "metadata": {},
     "output_type": "execute_result"
    }
   ],
   "source": [
    "# the first_variable variable contains a different value now\n",
    "\n",
    "first_variable"
   ]
  },
  {
   "cell_type": "code",
   "execution_count": 11,
   "id": "925d566d-cff0-41ef-9181-a2a77789d685",
   "metadata": {},
   "outputs": [
    {
     "data": {
      "text/plain": [
       "str"
      ]
     },
     "execution_count": 11,
     "metadata": {},
     "output_type": "execute_result"
    }
   ],
   "source": [
    "# with a different data type\n",
    "\n",
    "type(first_variable)"
   ]
  },
  {
   "cell_type": "code",
   "execution_count": 12,
   "id": "34961147-e196-4000-be6c-4ac6cfb98e7f",
   "metadata": {},
   "outputs": [],
   "source": [
    "# variable names are case sensitive\n",
    "\n",
    "FIRST_VARIABLE = \"John Smith\""
   ]
  },
  {
   "cell_type": "code",
   "execution_count": 13,
   "id": "2e8d4e27-2818-4bdd-8258-fc30c75e876b",
   "metadata": {},
   "outputs": [
    {
     "name": "stdout",
     "output_type": "stream",
     "text": [
      "John\n",
      "John Smith\n"
     ]
    }
   ],
   "source": [
    "# if you want to print multiple variables you will need to use the print function\n",
    "\n",
    "print(first_variable)\n",
    "print(FIRST_VARIABLE)"
   ]
  },
  {
   "cell_type": "code",
   "execution_count": 14,
   "id": "398a2df7-8403-4b06-a8f2-2bde4c733f4f",
   "metadata": {},
   "outputs": [
    {
     "ename": "SyntaxError",
     "evalue": "invalid decimal literal (3702977200.py, line 1)",
     "output_type": "error",
     "traceback": [
      "\u001b[0;36m  Cell \u001b[0;32mIn[14], line 1\u001b[0;36m\u001b[0m\n\u001b[0;31m    1variable = \"Sarah\"\u001b[0m\n\u001b[0m    ^\u001b[0m\n\u001b[0;31mSyntaxError\u001b[0m\u001b[0;31m:\u001b[0m invalid decimal literal\n"
     ]
    }
   ],
   "source": [
    "# example of an illegal variable\n",
    "\n",
    "1variable = \"Sarah\"\n"
   ]
  },
  {
   "cell_type": "code",
   "execution_count": 15,
   "id": "0d482030-4116-4bb1-8461-8e6c9f44f649",
   "metadata": {},
   "outputs": [
    {
     "ename": "SyntaxError",
     "evalue": "invalid syntax (4131164897.py, line 1)",
     "output_type": "error",
     "traceback": [
      "\u001b[0;36m  Cell \u001b[0;32mIn[15], line 1\u001b[0;36m\u001b[0m\n\u001b[0;31m    first variable = \"Sarah\"\u001b[0m\n\u001b[0m          ^\u001b[0m\n\u001b[0;31mSyntaxError\u001b[0m\u001b[0;31m:\u001b[0m invalid syntax\n"
     ]
    }
   ],
   "source": [
    "# another example of an illegal variable\n",
    "\n",
    "first variable = \"Sarah\""
   ]
  },
  {
   "cell_type": "code",
   "execution_count": 17,
   "id": "eba8d316-add8-4b89-8a94-3bd6aee1424c",
   "metadata": {},
   "outputs": [],
   "source": [
    "# creating multiple variables\n",
    "# option 1\n",
    "fruit1 = \"Apple\"\n",
    "fruit2 = \"Banana\"\n",
    "fruit3 = \"Cherry\""
   ]
  },
  {
   "cell_type": "code",
   "execution_count": 23,
   "id": "e1c62555-fcc1-4b18-910b-ba341d8cd52a",
   "metadata": {},
   "outputs": [],
   "source": [
    "# option 2\n",
    "fruit1, fruit2 = \"Apple\", \"Banana\""
   ]
  },
  {
   "cell_type": "code",
   "execution_count": 38,
   "id": "989b0a4d-f22d-4f7c-9003-805cc56f105c",
   "metadata": {},
   "outputs": [
    {
     "data": {
      "text/plain": [
       "'Cherry'"
      ]
     },
     "execution_count": 38,
     "metadata": {},
     "output_type": "execute_result"
    }
   ],
   "source": [
    "# this prints only the last variable value\n",
    "\n",
    "fruit1\n",
    "fruit2\n",
    "fruit3"
   ]
  },
  {
   "cell_type": "code",
   "execution_count": 39,
   "id": "50b58011-5fcd-45a2-8e13-682d42f8d093",
   "metadata": {},
   "outputs": [
    {
     "name": "stdout",
     "output_type": "stream",
     "text": [
      "Apple\n",
      "Banana\n",
      "Cherry\n"
     ]
    }
   ],
   "source": [
    "# if you want to print all three, in the same cell, you have to wrap print around them\n",
    "\n",
    "print(fruit1)\n",
    "print(fruit2)\n",
    "print(fruit3)"
   ]
  },
  {
   "cell_type": "code",
   "execution_count": 20,
   "id": "bf5ab50a-e5d3-4100-9771-0e51970f8a31",
   "metadata": {},
   "outputs": [
    {
     "data": {
      "text/plain": [
       "'Banana'"
      ]
     },
     "execution_count": 20,
     "metadata": {},
     "output_type": "execute_result"
    }
   ],
   "source": [
    "# or write them one by one..\n",
    "fruit2"
   ]
  },
  {
   "cell_type": "code",
   "execution_count": 21,
   "id": "9aaae1af-6832-45bc-96c7-5eb21eefeaee",
   "metadata": {},
   "outputs": [
    {
     "data": {
      "text/plain": [
       "'Cherry'"
      ]
     },
     "execution_count": 21,
     "metadata": {},
     "output_type": "execute_result"
    }
   ],
   "source": [
    "fruit3"
   ]
  },
  {
   "cell_type": "code",
   "execution_count": 40,
   "id": "26cef217-7756-4b61-846b-3d7047dff2e3",
   "metadata": {},
   "outputs": [
    {
     "data": {
      "text/plain": [
       "'AppleBanana'"
      ]
     },
     "execution_count": 40,
     "metadata": {},
     "output_type": "execute_result"
    }
   ],
   "source": [
    "# if you + two variables that contain string, this will join the two words together\n",
    "\n",
    "fruit1 + fruit2"
   ]
  },
  {
   "cell_type": "code",
   "execution_count": 31,
   "id": "eb01d93c-00f8-47c1-9f73-835e7107b666",
   "metadata": {},
   "outputs": [],
   "source": [
    "num1 = 5\n",
    "num2 = 6"
   ]
  },
  {
   "cell_type": "code",
   "execution_count": 32,
   "id": "e933b89f-902a-48cb-ae54-5b3a39275073",
   "metadata": {},
   "outputs": [
    {
     "data": {
      "text/plain": [
       "11"
      ]
     },
     "execution_count": 32,
     "metadata": {},
     "output_type": "execute_result"
    }
   ],
   "source": [
    "# if you + two variables that contain integers or float, it will add the two variables\n",
    "\n",
    "num1 + num2"
   ]
  },
  {
   "cell_type": "code",
   "execution_count": 33,
   "id": "81072594-c5e9-46a2-bd02-4b7da8680540",
   "metadata": {},
   "outputs": [
    {
     "ename": "TypeError",
     "evalue": "can only concatenate str (not \"int\") to str",
     "output_type": "error",
     "traceback": [
      "\u001b[0;31m---------------------------------------------------------------------------\u001b[0m",
      "\u001b[0;31mTypeError\u001b[0m                                 Traceback (most recent call last)",
      "Cell \u001b[0;32mIn[33], line 1\u001b[0m\n\u001b[0;32m----> 1\u001b[0m \u001b[43mfruit1\u001b[49m\u001b[43m \u001b[49m\u001b[38;5;241;43m+\u001b[39;49m\u001b[43m \u001b[49m\u001b[43mnum1\u001b[49m\n",
      "\u001b[0;31mTypeError\u001b[0m: can only concatenate str (not \"int\") to str"
     ]
    }
   ],
   "source": [
    "# however, python will not let you use + for variables of different data types\n",
    "\n",
    "fruit1 + num1"
   ]
  },
  {
   "cell_type": "code",
   "execution_count": 34,
   "id": "11186f3c-0137-49da-82f0-070d0c38d07a",
   "metadata": {},
   "outputs": [
    {
     "name": "stdout",
     "output_type": "stream",
     "text": [
      "Apple 5\n"
     ]
    }
   ],
   "source": [
    "# you could use print, however, to print the values of two variables of different data types\n",
    "\n",
    "print(fruit1, num1)"
   ]
  },
  {
   "cell_type": "code",
   "execution_count": 35,
   "id": "2050e7d6-8073-4ff6-86d4-387ca92e73ee",
   "metadata": {},
   "outputs": [
    {
     "name": "stdout",
     "output_type": "stream",
     "text": [
      "my favourite fruit is Apple and I want to buy 5 of them\n"
     ]
    }
   ],
   "source": [
    "# print the variable and some statement\n",
    "\n",
    "print(\"my favourite fruit is\", fruit1, \"and I want to buy\", num1, \"of them\")"
   ]
  },
  {
   "cell_type": "code",
   "execution_count": 37,
   "id": "0d586887-aa15-42c3-b81c-640a309975e6",
   "metadata": {},
   "outputs": [
    {
     "data": {
      "text/plain": [
       "'My favourite fruit is Banana and I want to buy 5 of them'"
      ]
     },
     "execution_count": 37,
     "metadata": {},
     "output_type": "execute_result"
    }
   ],
   "source": [
    "# f-string format\n",
    "\n",
    "f\"My favourite fruit is {fruit2} and I want to buy {num1} of them\""
   ]
  },
  {
   "cell_type": "code",
   "execution_count": null,
   "id": "8e47e6cf-0312-4222-b2dd-43365366880b",
   "metadata": {},
   "outputs": [],
   "source": []
  }
 ],
 "metadata": {
  "kernelspec": {
   "display_name": "Python 3 (ipykernel)",
   "language": "python",
   "name": "python3"
  },
  "language_info": {
   "codemirror_mode": {
    "name": "ipython",
    "version": 3
   },
   "file_extension": ".py",
   "mimetype": "text/x-python",
   "name": "python",
   "nbconvert_exporter": "python",
   "pygments_lexer": "ipython3",
   "version": "3.11.3"
  }
 },
 "nbformat": 4,
 "nbformat_minor": 5
}
