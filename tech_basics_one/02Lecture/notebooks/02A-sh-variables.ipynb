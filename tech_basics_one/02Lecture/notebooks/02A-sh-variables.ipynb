{
 "cells": [
  {
   "cell_type": "code",
   "execution_count": 4,
   "id": "dc81136d-42d1-470a-bcaf-fbb07e42fa67",
   "metadata": {},
   "outputs": [],
   "source": [
    "# crete my first variable\n",
    "\n",
    "first_variable = 5.3"
   ]
  },
  {
   "cell_type": "code",
   "execution_count": 5,
   "id": "567b944a-8c9e-4a35-8d40-ea422ab0d243",
   "metadata": {},
   "outputs": [
    {
     "data": {
      "text/plain": [
       "5.3"
      ]
     },
     "execution_count": 5,
     "metadata": {},
     "output_type": "execute_result"
    }
   ],
   "source": [
    "# view the variable\n",
    "\n",
    "first_variable"
   ]
  },
  {
   "cell_type": "code",
   "execution_count": 6,
   "id": "fe692169-574a-40c4-9306-38f75c2adeff",
   "metadata": {},
   "outputs": [
    {
     "data": {
      "text/plain": [
       "float"
      ]
     },
     "execution_count": 6,
     "metadata": {},
     "output_type": "execute_result"
    }
   ],
   "source": [
    "# check the type of the variable\n",
    "\n",
    "type(first_variable)"
   ]
  },
  {
   "cell_type": "code",
   "execution_count": 10,
   "id": "65ea1b8c-ff60-4173-8664-4d952390d79b",
   "metadata": {},
   "outputs": [],
   "source": [
    "# overwrite the variable with another value\n",
    "\n",
    "first_variable = 'John'"
   ]
  },
  {
   "cell_type": "code",
   "execution_count": 11,
   "id": "118e3e5e-f586-4405-bcc3-a27ce7a49e8c",
   "metadata": {},
   "outputs": [
    {
     "data": {
      "text/plain": [
       "'John'"
      ]
     },
     "execution_count": 11,
     "metadata": {},
     "output_type": "execute_result"
    }
   ],
   "source": [
    "# view the variable\n",
    "\n",
    "first_variable"
   ]
  },
  {
   "cell_type": "code",
   "execution_count": 12,
   "id": "e12ad520-b325-4aff-b4eb-e2f30b44004e",
   "metadata": {},
   "outputs": [
    {
     "data": {
      "text/plain": [
       "str"
      ]
     },
     "execution_count": 12,
     "metadata": {},
     "output_type": "execute_result"
    }
   ],
   "source": [
    "# check the type\n",
    "\n",
    "type(first_variable)"
   ]
  },
  {
   "cell_type": "code",
   "execution_count": 13,
   "id": "5c00f254-7ad6-4da7-a0fe-b735fc45d7e5",
   "metadata": {},
   "outputs": [],
   "source": [
    "# variables are case sensitive\n",
    "\n",
    "FIRST_VARIABLE = 56"
   ]
  },
  {
   "cell_type": "code",
   "execution_count": 14,
   "id": "246bc199-d17b-409c-b275-7811f5cab1e6",
   "metadata": {},
   "outputs": [
    {
     "name": "stdout",
     "output_type": "stream",
     "text": [
      "John\n",
      "56\n"
     ]
    }
   ],
   "source": [
    "# print the values of two different variables\n",
    "\n",
    "print(first_variable)\n",
    "print(FIRST_VARIABLE)"
   ]
  },
  {
   "cell_type": "code",
   "execution_count": 15,
   "id": "c054a504-0405-4d7a-a7e3-0f0fab1bb2ee",
   "metadata": {},
   "outputs": [
    {
     "ename": "SyntaxError",
     "evalue": "invalid decimal literal (3702977200.py, line 1)",
     "output_type": "error",
     "traceback": [
      "\u001b[0;36m  Cell \u001b[0;32mIn[15], line 1\u001b[0;36m\u001b[0m\n\u001b[0;31m    1variable = \"Sarah\"\u001b[0m\n\u001b[0m    ^\u001b[0m\n\u001b[0;31mSyntaxError\u001b[0m\u001b[0;31m:\u001b[0m invalid decimal literal\n"
     ]
    }
   ],
   "source": [
    "# you can't create variables that start with numbers\n",
    "\n",
    "1variable = \"Sarah\""
   ]
  },
  {
   "cell_type": "code",
   "execution_count": 16,
   "id": "064e1f48-327d-459b-9d29-5faeceb8fe63",
   "metadata": {},
   "outputs": [],
   "source": [
    "# but can create variables that end with numbers\n",
    "\n",
    "variable1 = \"Sarah\""
   ]
  },
  {
   "cell_type": "code",
   "execution_count": 17,
   "id": "40204faa-2848-4d3d-a0a7-5aa46580f55a",
   "metadata": {},
   "outputs": [
    {
     "ename": "SyntaxError",
     "evalue": "invalid syntax (2026103325.py, line 1)",
     "output_type": "error",
     "traceback": [
      "\u001b[0;36m  Cell \u001b[0;32mIn[17], line 1\u001b[0;36m\u001b[0m\n\u001b[0;31m    variable 1 = \"Sarah\"\u001b[0m\n\u001b[0m             ^\u001b[0m\n\u001b[0;31mSyntaxError\u001b[0m\u001b[0;31m:\u001b[0m invalid syntax\n"
     ]
    }
   ],
   "source": [
    "# you can't create variables that have spaces\n",
    "\n",
    "variable 1 = \"Sarah\""
   ]
  },
  {
   "cell_type": "code",
   "execution_count": 18,
   "id": "f4446f78-c602-433a-be60-b4db041cfcce",
   "metadata": {},
   "outputs": [],
   "source": [
    "# create multiple variables\n",
    "# option 1\n",
    "\n",
    "fruit1 = \"Orange\" \n",
    "fruit2 = \"Apple\"\n",
    "fruit3 = \"Banana\""
   ]
  },
  {
   "cell_type": "code",
   "execution_count": 19,
   "id": "1a7327fd-88dd-425f-8d7f-77aceb9adcac",
   "metadata": {},
   "outputs": [],
   "source": [
    "# option 2\n",
    "\n",
    "fruit1, fruit2, fruit3 = \"Orange\", \"Apple\", \"Banana\""
   ]
  },
  {
   "cell_type": "code",
   "execution_count": 20,
   "id": "0d61a5e4-6a9c-4e2e-b493-be6fc510083a",
   "metadata": {},
   "outputs": [
    {
     "name": "stdout",
     "output_type": "stream",
     "text": [
      "Orange\n",
      "Apple\n",
      "Banana\n"
     ]
    }
   ],
   "source": [
    "print(fruit1)\n",
    "print(fruit2)\n",
    "print(fruit3)\n"
   ]
  },
  {
   "cell_type": "code",
   "execution_count": 22,
   "id": "76e60634-a215-441a-9efb-2af7f9d03586",
   "metadata": {},
   "outputs": [],
   "source": [
    "fruit1, fruit2 = \"Orange\", \"Apple\""
   ]
  },
  {
   "cell_type": "code",
   "execution_count": 26,
   "id": "43c8db00-63de-424b-86b5-3d978e823fab",
   "metadata": {},
   "outputs": [
    {
     "data": {
      "text/plain": [
       "'Orange, Apple'"
      ]
     },
     "execution_count": 26,
     "metadata": {},
     "output_type": "execute_result"
    }
   ],
   "source": [
    "fruit1 + \", \" + fruit2"
   ]
  },
  {
   "cell_type": "code",
   "execution_count": 30,
   "id": "093d4d2e-7bf0-4e3d-b8f1-31f0d39d8d86",
   "metadata": {},
   "outputs": [],
   "source": [
    "num1 = 67\n",
    "num2 = 5"
   ]
  },
  {
   "cell_type": "code",
   "execution_count": 31,
   "id": "5ec535f9-66a5-4fbd-bf98-a2bf81237bea",
   "metadata": {},
   "outputs": [
    {
     "data": {
      "text/plain": [
       "int"
      ]
     },
     "execution_count": 31,
     "metadata": {},
     "output_type": "execute_result"
    }
   ],
   "source": [
    "type(num1)"
   ]
  },
  {
   "cell_type": "code",
   "execution_count": 32,
   "id": "b9203aed-1289-4424-adb0-5e565b6e7170",
   "metadata": {},
   "outputs": [
    {
     "data": {
      "text/plain": [
       "72"
      ]
     },
     "execution_count": 32,
     "metadata": {},
     "output_type": "execute_result"
    }
   ],
   "source": [
    "num1 + num2"
   ]
  },
  {
   "cell_type": "code",
   "execution_count": 34,
   "id": "fbb0c1d8-b18a-40e9-aaf3-42dec0568f4f",
   "metadata": {},
   "outputs": [
    {
     "ename": "TypeError",
     "evalue": "can only concatenate str (not \"int\") to str",
     "output_type": "error",
     "traceback": [
      "\u001b[0;31m---------------------------------------------------------------------------\u001b[0m",
      "\u001b[0;31mTypeError\u001b[0m                                 Traceback (most recent call last)",
      "Cell \u001b[0;32mIn[34], line 1\u001b[0m\n\u001b[0;32m----> 1\u001b[0m \u001b[43mfruit1\u001b[49m\u001b[43m \u001b[49m\u001b[38;5;241;43m+\u001b[39;49m\u001b[43m \u001b[49m\u001b[43mnum1\u001b[49m\n",
      "\u001b[0;31mTypeError\u001b[0m: can only concatenate str (not \"int\") to str"
     ]
    }
   ],
   "source": [
    "fruit1 + num1"
   ]
  },
  {
   "cell_type": "code",
   "execution_count": 41,
   "id": "d1377386-5e72-45fe-b15e-3d1d99c15f29",
   "metadata": {},
   "outputs": [
    {
     "name": "stdout",
     "output_type": "stream",
     "text": [
      "My favourite fruit is Orange and I want to buy 67 of these\n"
     ]
    }
   ],
   "source": [
    "print(\"My favourite fruit is\", fruit1, \"and I want to buy\", num1, \"of these\")"
   ]
  },
  {
   "cell_type": "code",
   "execution_count": 40,
   "id": "bc9ab18a-8459-4629-b5ec-a5bf06260ad7",
   "metadata": {},
   "outputs": [
    {
     "data": {
      "text/plain": [
       "'My favourite fruit is Orange and I want to buy 5 of these'"
      ]
     },
     "execution_count": 40,
     "metadata": {},
     "output_type": "execute_result"
    }
   ],
   "source": [
    "f\"My favourite fruit is {fruit1} and I want to buy {num2} of these\""
   ]
  },
  {
   "cell_type": "code",
   "execution_count": null,
   "id": "13b65298-20c6-407b-810d-533644c3539d",
   "metadata": {},
   "outputs": [],
   "source": []
  }
 ],
 "metadata": {
  "kernelspec": {
   "display_name": "Python 3 (ipykernel)",
   "language": "python",
   "name": "python3"
  },
  "language_info": {
   "codemirror_mode": {
    "name": "ipython",
    "version": 3
   },
   "file_extension": ".py",
   "mimetype": "text/x-python",
   "name": "python",
   "nbconvert_exporter": "python",
   "pygments_lexer": "ipython3",
   "version": "3.11.3"
  }
 },
 "nbformat": 4,
 "nbformat_minor": 5
}
